{
 "cells": [
  {
   "metadata": {},
   "cell_type": "markdown",
   "source": [
    "# parte 1\n",
    "pegar os links de cada um dos conjuntos"
   ],
   "id": "a954aa3b168973eb"
  },
  {
   "metadata": {
    "ExecuteTime": {
     "end_time": "2024-05-07T01:52:45.313928Z",
     "start_time": "2024-05-07T01:52:43.141670Z"
    }
   },
   "cell_type": "code",
   "source": [
    "from selenium import webdriver\n",
    "from selenium.common.exceptions import StaleElementReferenceException\n",
    "from selenium.webdriver.common.by import By\n",
    "from selenium.webdriver.support.ui import WebDriverWait\n",
    "from selenium.webdriver.support import expected_conditions as EC\n",
    "from selenium.webdriver import ActionChains\n",
    "\n",
    "chrome_options = webdriver.ChromeOptions()\n",
    "chrome_options.add_argument('--headless') # ensure GUI is off\n",
    "driver = webdriver.Chrome(options=chrome_options)\n",
    "driver.set_page_load_timeout(60)\n",
    "url = 'https://www.quintoandar.com.br/alugar/imovel/sao-paulo-sp-brasil'"
   ],
   "id": "e0093105e500585e",
   "outputs": [],
   "execution_count": 1
  },
  {
   "metadata": {
    "ExecuteTime": {
     "end_time": "2024-05-07T01:52:52.152038Z",
     "start_time": "2024-05-07T01:52:45.314870Z"
    }
   },
   "cell_type": "code",
   "source": [
    "driver.get(url)\n",
    "driver.implicitly_wait(10)\n",
    "\n",
    "wait = WebDriverWait(driver, timeout=5)"
   ],
   "id": "a5c5aab3c56c5845",
   "outputs": [],
   "execution_count": 2
  },
  {
   "metadata": {
    "ExecuteTime": {
     "end_time": "2024-05-07T01:52:59.894041Z",
     "start_time": "2024-05-07T01:52:57.167602Z"
    }
   },
   "cell_type": "code",
   "source": [
    "horas = []\n",
    "\n",
    "for i in range(2):\n",
    "    try:\n",
    "        horas = driver.find_elements(By.XPATH, '//main/section[2]/div/div')\n",
    "        wait.until(EC.element_to_be_clickable((By.XPATH, '//main/section[2]/div/div[last()-2]/button')))\n",
    "        horas[-3].click()\n",
    "        wait.until(EC.staleness_of(horas[-3]))\n",
    "\n",
    "    except Exception as err:\n",
    "        print(f'\\nse fudeu em {i}: {err = }\\n')\n",
    "\n",
    "        if isinstance(err, StaleElementReferenceException):\n",
    "            print(\"Attempting to recover from StaleElementReferenceException\")\n",
    "            wait.until(EC.element_to_be_clickable((By.XPATH, '//main/section[2]/div/div[last()-2]/button')))\n",
    "        else:\n",
    "            raise err\n",
    "\n",
    "    print(f'list size on iteration {i}: {len(horas)}')"
   ],
   "id": "a95a7cedbc2625b2",
   "outputs": [
    {
     "name": "stdout",
     "output_type": "stream",
     "text": [
      "list size on iteration 0: 16\n",
      "list size on iteration 1: 28\n"
     ]
    }
   ],
   "execution_count": 3
  },
  {
   "metadata": {
    "ExecuteTime": {
     "end_time": "2024-05-07T01:53:00.662746Z",
     "start_time": "2024-05-07T01:53:00.448141Z"
    }
   },
   "cell_type": "code",
   "source": [
    "links = []\n",
    "# os divs de interesse vao desde o segundo ate o anteantepenultimo\n",
    "for i, div in enumerate(horas[1:-4]):\n",
    "    current_link = div.find_element(by=By.TAG_NAME, value='a').get_property('href')\n",
    "    print(f'link at iteration {i} {current_link}')\n",
    "    links.append(current_link)"
   ],
   "id": "17990b1e953dcbb6",
   "outputs": [
    {
     "name": "stdout",
     "output_type": "stream",
     "text": [
      "link at iteration 0 https://www.quintoandar.com.br/imovel/893693970/alugar/kitnet-1-quarto-indianopolis-sao-paulo\n",
      "link at iteration 1 https://www.quintoandar.com.br/imovel/894482097/alugar/apartamento-2-quartos-vila-santa-catarina-sao-paulo\n",
      "link at iteration 2 https://www.quintoandar.com.br/imovel/894482910/alugar/kitnet-1-quarto-centro-sao-paulo\n",
      "link at iteration 3 https://www.quintoandar.com.br/imovel/892950505/alugar/casa-2-quartos-sapopemba-sao-paulo\n",
      "link at iteration 4 https://www.quintoandar.com.br/imovel/894483697/alugar/apartamento-2-quartos-vila-penteado-sao-paulo\n",
      "link at iteration 5 https://www.quintoandar.com.br/imovel/892920653/alugar/casa-1-quarto-vila-parque-jabaquara-sao-paulo\n",
      "link at iteration 6 https://www.quintoandar.com.br/imovel/894410806/alugar/casa-2-quartos-jardim-jau-zona-leste-sao-paulo\n",
      "link at iteration 7 https://www.quintoandar.com.br/imovel/893352003/alugar/apartamento-2-quartos-jurubatuba-sao-paulo\n",
      "link at iteration 8 https://www.quintoandar.com.br/imovel/892881157/alugar/apartamento-2-quartos-vila-mariana-sao-paulo\n",
      "link at iteration 9 https://www.quintoandar.com.br/imovel/892882148/alugar/apartamento-2-quartos-campo-belo-sao-paulo\n",
      "link at iteration 10 https://www.quintoandar.com.br/imovel/893983866/alugar/apartamento-3-quartos-vila-mendes-sao-paulo\n",
      "link at iteration 11 https://www.quintoandar.com.br/imovel/894482706/alugar/kitnet-1-quarto-centro-sao-paulo\n",
      "link at iteration 12 https://www.quintoandar.com.br/imovel/894458593/alugar/casa-3-quartos-vila-bertioga-sao-paulo\n",
      "link at iteration 13 https://www.quintoandar.com.br/imovel/894471671/alugar/casa-2-quartos-vila-regente-feijo-sao-paulo\n",
      "link at iteration 14 https://www.quintoandar.com.br/imovel/894467239/alugar/apartamento-3-quartos-vila-gumercindo-sao-paulo\n",
      "link at iteration 15 https://www.quintoandar.com.br/imovel/894402690/alugar/apartamento-3-quartos-vila-bertioga-sao-paulo\n",
      "link at iteration 16 https://www.quintoandar.com.br/imovel/894159892/alugar/apartamento-2-quartos-centro-historico-de-sao-paulo-sao-paulo\n",
      "link at iteration 17 https://www.quintoandar.com.br/imovel/893464893/alugar/apartamento-3-quartos-vila-da-saude-sao-paulo\n",
      "link at iteration 18 https://www.quintoandar.com.br/imovel/894466901/alugar/casa-3-quartos-vila-antonieta-sao-paulo\n",
      "link at iteration 19 https://www.quintoandar.com.br/imovel/894464503/alugar/apartamento-2-quartos-mooca-sao-paulo\n",
      "link at iteration 20 https://www.quintoandar.com.br/imovel/894405424/alugar/apartamento-2-quartos-vila-gustavo-sao-paulo\n",
      "link at iteration 21 https://www.quintoandar.com.br/imovel/894082081/alugar/apartamento-2-quartos-vila-ema-sao-paulo\n",
      "link at iteration 22 https://www.quintoandar.com.br/imovel/894484451/alugar/apartamento-2-quartos-chacara-santo-antonio-zona-leste-sao-paulo\n"
     ]
    }
   ],
   "execution_count": 4
  },
  {
   "metadata": {},
   "cell_type": "markdown",
   "source": [
    "# parte 2\n",
    "pra cada conjunto, obter informaçoes de interess\n",
    "e"
   ],
   "id": "22e97d24869ef1d5"
  },
  {
   "metadata": {
    "ExecuteTime": {
     "end_time": "2024-05-07T02:13:53.937609Z",
     "start_time": "2024-05-07T02:13:53.932926Z"
    }
   },
   "cell_type": "code",
   "source": [
    "xpaths = {\n",
    "\n",
    "    'suite_area'    : '//main/section/div/div[1]/div/div[3]/section/div/div[3]/div/div/div[1]/div/div/p',\n",
    "    'street'        : '//main/section/div/div[1]/div/div[2]/div/div/div/div[1]/div/h4',\n",
    "    'neighborhood'  : '//main/section/div/div[1]/div/div[2]/div/div/div/div[1]/small',\n",
    "    'condominium'   : '//main/section/div/div[1]/div/div[3]/section/div/div[2]/div/ul/li[2]/div/div/p',\n",
    "    'tax'           : '//main/section/div/div[1]/div/div[3]/section/div/div[2]/div/ul/li[3]/div/div/p',\n",
    "    'asking_price'  : '//main/section/div/div[1]/div/div[3]/section/div/div[2]/div/ul/li[1]/div/div/p'\n",
    "}"
   ],
   "id": "94c6e558687ca41a",
   "outputs": [],
   "execution_count": 11
  },
  {
   "metadata": {
    "ExecuteTime": {
     "end_time": "2024-05-07T02:15:44.819467Z",
     "start_time": "2024-05-07T02:15:42.725796Z"
    }
   },
   "cell_type": "code",
   "source": [
    "import pandas as pd\n",
    "\n",
    "\n",
    "delta_y = 800\n",
    "stock = []\n",
    "for link in links[0:2]:\n",
    "    driver.get(link)\n",
    "    driver.implicitly_wait(10)\n",
    "    ActionChains(driver) \\\n",
    "        .scroll_by_amount(0, delta_y) \\\n",
    "        .perform()\n",
    "    \n",
    "    stock.append(\n",
    "        {\n",
    "            key: driver.find_element(by=By.XPATH, value=xpath).text for key, xpath in xpaths.items()\n",
    "        } \n",
    "    )"
   ],
   "id": "48a1847a0eb99352",
   "outputs": [],
   "execution_count": 16
  },
  {
   "metadata": {
    "ExecuteTime": {
     "end_time": "2024-05-07T02:18:41.745019Z",
     "start_time": "2024-05-07T02:18:41.725012Z"
    }
   },
   "cell_type": "code",
   "source": "pd.DataFrame(stock)",
   "id": "7afc2b492503fbde",
   "outputs": [
    {
     "data": {
      "text/plain": [
       "  suite_area                             street  \\\n",
       "0      25 m²                       Alameda Iraé   \n",
       "1      49 m²  Rua Doutor Djalma Pinheiro Franco   \n",
       "\n",
       "                     neighborhood condominium     tax asking_price  \n",
       "0         Indianópolis, São Paulo      R$ 483    R$ 0     R$ 3.100  \n",
       "1  Vila Santa Catarina, São Paulo      R$ 532  R$ 107     R$ 3.200  "
      ],
      "text/html": [
       "<div>\n",
       "<style scoped>\n",
       "    .dataframe tbody tr th:only-of-type {\n",
       "        vertical-align: middle;\n",
       "    }\n",
       "\n",
       "    .dataframe tbody tr th {\n",
       "        vertical-align: top;\n",
       "    }\n",
       "\n",
       "    .dataframe thead th {\n",
       "        text-align: right;\n",
       "    }\n",
       "</style>\n",
       "<table border=\"1\" class=\"dataframe\">\n",
       "  <thead>\n",
       "    <tr style=\"text-align: right;\">\n",
       "      <th></th>\n",
       "      <th>suite_area</th>\n",
       "      <th>street</th>\n",
       "      <th>neighborhood</th>\n",
       "      <th>condominium</th>\n",
       "      <th>tax</th>\n",
       "      <th>asking_price</th>\n",
       "    </tr>\n",
       "  </thead>\n",
       "  <tbody>\n",
       "    <tr>\n",
       "      <th>0</th>\n",
       "      <td>25 m²</td>\n",
       "      <td>Alameda Iraé</td>\n",
       "      <td>Indianópolis, São Paulo</td>\n",
       "      <td>R$ 483</td>\n",
       "      <td>R$ 0</td>\n",
       "      <td>R$ 3.100</td>\n",
       "    </tr>\n",
       "    <tr>\n",
       "      <th>1</th>\n",
       "      <td>49 m²</td>\n",
       "      <td>Rua Doutor Djalma Pinheiro Franco</td>\n",
       "      <td>Vila Santa Catarina, São Paulo</td>\n",
       "      <td>R$ 532</td>\n",
       "      <td>R$ 107</td>\n",
       "      <td>R$ 3.200</td>\n",
       "    </tr>\n",
       "  </tbody>\n",
       "</table>\n",
       "</div>"
      ]
     },
     "execution_count": 18,
     "metadata": {},
     "output_type": "execute_result"
    }
   ],
   "execution_count": 18
  }
 ],
 "metadata": {
  "kernelspec": {
   "display_name": "Python 3 (ipykernel)",
   "language": "python",
   "name": "python3"
  },
  "language_info": {
   "codemirror_mode": {
    "name": "ipython",
    "version": 3
   },
   "file_extension": ".py",
   "mimetype": "text/x-python",
   "name": "python",
   "nbconvert_exporter": "python",
   "pygments_lexer": "ipython3",
   "version": "3.9.13"
  }
 },
 "nbformat": 4,
 "nbformat_minor": 5
}
