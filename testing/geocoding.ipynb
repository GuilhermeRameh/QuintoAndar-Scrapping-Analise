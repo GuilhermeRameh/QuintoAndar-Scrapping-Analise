{
 "cells": [
  {
   "cell_type": "markdown",
   "metadata": {
    "jukit_cell_id": "cPmSHzi4Ko"
   },
   "source": [
    "# Gegraphical data clustering"
   ]
  },
  {
   "cell_type": "code",
   "metadata": {
    "jukit_cell_id": "4di5OUS70t"
   },
   "source": [
    "import pandas as pd\n",
    "from geopy.geocoders import Nominatim, ArcGIS, Photon\n",
    "from geopy.extra.rate_limiter import RateLimiter"
   ],
   "outputs": [],
   "execution_count": null
  },
  {
   "cell_type": "code",
   "metadata": {
    "jukit_cell_id": "WBTgqosukn"
   },
   "source": [
    "geolocator = Nominatim(user_agent='em_nome_do_pai')\n",
    "# geolocator = Photon()\n",
    "# geolocator = ArcGIS(username='cwrneiro', password='Chronos.42progoogle', referer='http://www.example.com')\n",
    "delayed_geocode = RateLimiter(geolocator.geocode, min_delay_seconds=1)"
   ],
   "outputs": [],
   "execution_count": null
  },
  {
   "cell_type": "code",
   "metadata": {
    "jukit_cell_id": "M8P8J2blTh"
   },
   "source": [
    "df = pd.read_parquet('stock.parquet')#.sample(n=50)\n",
    "df.shape"
   ],
   "outputs": [
    {
     "output_type": "stream",
     "name": "stdout",
     "text": "\n"
    },
    {
     "output_type": "execute_result",
     "execution_count": 1,
     "data": {
      "text/plain": "(2413, 6)"
     },
     "metadata": {}
    }
   ],
   "execution_count": 1
  },
  {
   "cell_type": "code",
   "metadata": {
    "jukit_cell_id": "hTlPK3bmGy"
   },
   "source": [
    "df['full_address'] = df.street + ', ' + df.neighborhood\n",
    "df.full_address"
   ],
   "outputs": [
    {
     "output_type": "stream",
     "name": "stdout",
     "text": "\n"
    },
    {
     "output_type": "execute_result",
     "execution_count": 2,
     "data": {
      "text/plain": "0                 Rua Lamute, São João Clímaco, São Paulo\n1             Rua Galeno de Castro, Jurubatuba, São Paulo\n2             Alameda Nothmann, Campos Elíseos, São Paulo\n3        Rua Luís Correia de Melo, Santo Amaro, São Paulo\n4                   Rua Jorge Rizzo, Pinheiros, São Paulo\n                              ...                        \n2408                 Rua Eleutério, Campo Belo, São Paulo\n2409          Rua General Jardim, Vila Buarque, São Paulo\n2410    Rua Paulo de Avelar, Vila Dom Pedro Ii, São Paulo\n2411    Avenida Leonardo da Vinci, Vila Guarani (z Sul...\n2412                Rua São Joaquim, Liberdade, São Paulo\nName: full_address, Length: 2413, dtype: object"
     },
     "metadata": {}
    }
   ],
   "execution_count": 2
  },
  {
   "cell_type": "code",
   "metadata": {
    "jukit_cell_id": "GUyKjN7jrh"
   },
   "source": [
    "def get_lat_long(address: str):\n",
    "    location = delayed_geocode(address)\n",
    "    \n",
    "    if location is not None:\n",
    "        return location.latitude, location.longitude\n",
    "\n",
    "    return None, None"
   ],
   "outputs": [],
   "execution_count": null
  },
  {
   "cell_type": "code",
   "metadata": {
    "jukit_cell_id": "eODOt2qZPE"
   },
   "source": [
    "'''\n",
    "df[['latitude', 'longitude']] = df.full_address.apply(lambda address: pd.Series(get_lat_long(address)))\n",
    "df\n",
    "'''\n",
    "\n",
    "df[['latitude', 'longitude']] = None, None\n",
    "\n",
    "n_rows = 50\n",
    "\n",
    "for i in range(len(df.index)//n_rows):\n",
    "    print(f'Getting coordinates for columns {i*n_rows} to {(i+1)*n_rows}')\n",
    "\n",
    "    df.iloc[i*n_rows:(i+1)*n_rows, [df.columns.get_loc(c) for c in ['latitude', 'longitude']]] = df.iloc[i*n_rows:(i+1)*n_rows].full_address.apply(lambda address: pd.Series(get_lat_long(address)))\n",
    "\n",
    "    print(f'Success, with {df.iloc[i*n_rows:(i+1)*n_rows].isna().sum()}% na')\n",
    "\n",
    "\n",
    "    file_path = f'data/chunk_{i}.parquet'\n",
    "    \n",
    "    print(f'Saving to {file_path}')\n",
    "\n",
    "    df.iloc[i*n_rows:(i+1)*n_rows].to_parquet(file_path)\n",
    "\n",
    "    print('Saved')"
   ],
   "outputs": [
    {
     "output_type": "stream",
     "name": "stdout",
     "text": "Getting coordinates for columns 0 to 50\nSuccess, with suite_area       0\nstreet           0\nneighborhood     0\ncondominium      0\ntax              0\nasking_price     0\nfull_address     0\nlatitude        23\nlongitude       23\ndtype: int64% na\nSaving to data/chunk_0.parquet\nSaved\nGetting coordinates for columns 50 to 100\nSuccess, with suite_area       0\nstreet           0\nneighborhood     0\ncondominium      0\ntax              0\nasking_price     0\nfull_address     0\nlatitude        24\nlongitude       24\ndtype: int64% na\nSaving to data/chunk_1.parquet\nSaved\nGetting coordinates for columns 100 to 150\nSuccess, with suite_area       0\nstreet           0\nneighborhood     0\ncondominium      0\ntax              0\nasking_price     0\nfull_address     0\nlatitude        21\nlongitude       21\ndtype: int64% na\nSaving to data/chunk_2.parquet\nSaved\nGetting coordinates for columns 150 to 200\nSuccess, with suite_area       0\nstreet           0\nneighborhood     0\ncondominium      0\ntax              0\nasking_price     0\nfull_address     0\nlatitude        24\nlongitude       24\ndtype: int64% na\nSaving to data/chunk_3.parquet\nSaved\nGetting coordinates for columns 200 to 250\nSuccess, with suite_area       0\nstreet           0\nneighborhood     0\ncondominium      0\ntax              0\nasking_price     0\nfull_address     0\nlatitude        21\nlongitude       21\ndtype: int64% na\nSaving to data/chunk_4.parquet\nSaved\nGetting coordinates for columns 250 to 300\nSuccess, with suite_area       0\nstreet           0\nneighborhood     0\ncondominium      0\ntax              0\nasking_price     0\nfull_address     0\nlatitude        24\nlongitude       24\ndtype: int64% na\nSaving to data/chunk_5.parquet\nSaved\nGetting coordinates for columns 300 to 350\nSuccess, with suite_area       0\nstreet           0\nneighborhood     0\ncondominium      0\ntax              0\nasking_price     0\nfull_address     0\nlatitude        14\nlongitude       14\ndtype: int64% na\nSaving to data/chunk_6.parquet\nSaved\nGetting coordinates for columns 350 to 400\nSuccess, with suite_area       0\nstreet           0\nneighborhood     0\ncondominium      0\ntax              0\nasking_price     0\nfull_address     0\nlatitude        18\nlongitude       18\ndtype: int64% na\nSaving to data/chunk_7.parquet\nSaved\nGetting coordinates for columns 400 to 450\nSuccess, with suite_area       0\nstreet           0\nneighborhood     0\ncondominium      0\ntax              0\nasking_price     0\nfull_address     0\nlatitude        13\nlongitude       13\ndtype: int64% na\nSaving to data/chunk_8.parquet\nSaved\nGetting coordinates for columns 450 to 500\nSuccess, with suite_area       0\nstreet           0\nneighborhood     0\ncondominium      0\ntax              0\nasking_price     0\nfull_address     0\nlatitude        20\nlongitude       20\ndtype: int64% na\nSaving to data/chunk_9.parquet\nSaved\nGetting coordinates for columns 500 to 550\nSuccess, with suite_area       0\nstreet           0\nneighborhood     0\ncondominium      0\ntax              0\nasking_price     0\nfull_address     0\nlatitude        19\nlongitude       19\ndtype: int64% na\nSaving to data/chunk_10.parquet\nSaved\nGetting coordinates for columns 550 to 600\nSuccess, with suite_area       0\nstreet           0\nneighborhood     0\ncondominium      0\ntax              0\nasking_price     0\nfull_address     0\nlatitude        28\nlongitude       28\ndtype: int64% na\nSaving to data/chunk_11.parquet\nSaved\nGetting coordinates for columns 600 to 650\nSuccess, with suite_area       0\nstreet           0\nneighborhood     0\ncondominium      0\ntax              0\nasking_price     0\nfull_address     0\nlatitude        27\nlongitude       27\ndtype: int64% na\nSaving to data/chunk_12.parquet\nSaved\nGetting coordinates for columns 650 to 700\nSuccess, with suite_area       0\nstreet           0\nneighborhood     0\ncondominium      0\ntax              0\nasking_price     0\nfull_address     0\nlatitude        21\nlongitude       21\ndtype: int64% na\nSaving to data/chunk_13.parquet\nSaved\nGetting coordinates for columns 700 to 750\nSuccess, with suite_area       0\nstreet           0\nneighborhood     0\ncondominium      0\ntax              0\nasking_price     0\nfull_address     0\nlatitude        21\nlongitude       21\ndtype: int64% na\nSaving to data/chunk_14.parquet\nSaved\nGetting coordinates for columns 750 to 800\nSuccess, with suite_area       0\nstreet           0\nneighborhood     0\ncondominium      0\ntax              0\nasking_price     0\nfull_address     0\nlatitude        21\nlongitude       21\ndtype: int64% na\nSaving to data/chunk_15.parquet\nSaved\nGetting coordinates for columns 800 to 850\nSuccess, with suite_area       0\nstreet           0\nneighborhood     0\ncondominium      0\ntax              0\nasking_price     0\nfull_address     0\nlatitude        22\nlongitude       22\ndtype: int64% na\nSaving to data/chunk_16.parquet\nSaved\nGetting coordinates for columns 850 to 900\nSuccess, with suite_area       0\nstreet           0\nneighborhood     0\ncondominium      0\ntax              0\nasking_price     0\nfull_address     0\nlatitude        18\nlongitude       18\ndtype: int64% na\nSaving to data/chunk_17.parquet\nSaved\nGetting coordinates for columns 900 to 950\nSuccess, with suite_area       0\nstreet           0\nneighborhood     0\ncondominium      0\ntax              0\nasking_price     0\nfull_address     0\nlatitude        22\nlongitude       22\ndtype: int64% na\nSaving to data/chunk_18.parquet\nSaved\nGetting coordinates for columns 950 to 1000\nSuccess, with suite_area       0\nstreet           0\nneighborhood     0\ncondominium      0\ntax              0\nasking_price     0\nfull_address     0\nlatitude        17\nlongitude       17\ndtype: int64% na\nSaving to data/chunk_19.parquet\nSaved\nGetting coordinates for columns 1000 to 1050\nSuccess, with suite_area       0\nstreet           0\nneighborhood     0\ncondominium      0\ntax              0\nasking_price     0\nfull_address     0\nlatitude        24\nlongitude       24\ndtype: int64% na\nSaving to data/chunk_20.parquet\nSaved\nGetting coordinates for columns 1050 to 1100\nSuccess, with suite_area       0\nstreet           0\nneighborhood     0\ncondominium      0\ntax              0\nasking_price     0\nfull_address     0\nlatitude        23\nlongitude       23\ndtype: int64% na\nSaving to data/chunk_21.parquet\nSaved\nGetting coordinates for columns 1100 to 1150\nSuccess, with suite_area       0\nstreet           0\nneighborhood     0\ncondominium      0\ntax              0\nasking_price     0\nfull_address     0\nlatitude        18\nlongitude       18\ndtype: int64% na\nSaving to data/chunk_22.parquet\nSaved\nGetting coordinates for columns 1150 to 1200\nSuccess, with suite_area       0\nstreet           0\nneighborhood     0\ncondominium      0\ntax              0\nasking_price     0\nfull_address     0\nlatitude        20\nlongitude       20\ndtype: int64% na\nSaving to data/chunk_23.parquet\nSaved\nGetting coordinates for columns 1200 to 1250\nSuccess, with suite_area       0\nstreet           0\nneighborhood     0\ncondominium      0\ntax              0\nasking_price     0\nfull_address     0\nlatitude        21\nlongitude       21\ndtype: int64% na\nSaving to data/chunk_24.parquet\nSaved\nGetting coordinates for columns 1250 to 1300\nSuccess, with suite_area       0\nstreet           0\nneighborhood     0\ncondominium      0\ntax              0\nasking_price     0\nfull_address     0\nlatitude        21\nlongitude       21\ndtype: int64% na\nSaving to data/chunk_25.parquet\nSaved\nGetting coordinates for columns 1300 to 1350\nSuccess, with suite_area       0\nstreet           0\nneighborhood     0\ncondominium      0\ntax              0\nasking_price     0\nfull_address     0\nlatitude        22\nlongitude       22\ndtype: int64% na\nSaving to data/chunk_26.parquet\nSaved\nGetting coordinates for columns 1350 to 1400\nSuccess, with suite_area       0\nstreet           0\nneighborhood     0\ncondominium      0\ntax              0\nasking_price     0\nfull_address     0\nlatitude        17\nlongitude       17\ndtype: int64% na\nSaving to data/chunk_27.parquet\nSaved\nGetting coordinates for columns 1400 to 1450\nSuccess, with suite_area       0\nstreet           0\nneighborhood     0\ncondominium      0\ntax              0\nasking_price     0\nfull_address     0\nlatitude        20\nlongitude       20\ndtype: int64% na\nSaving to data/chunk_28.parquet\nSaved\nGetting coordinates for columns 1450 to 1500\nSuccess, with suite_area       0\nstreet           0\nneighborhood     0\ncondominium      0\ntax              0\nasking_price     0\nfull_address     0\nlatitude        23\nlongitude       23\ndtype: int64% na\nSaving to data/chunk_29.parquet\nSaved\nGetting coordinates for columns 1500 to 1550\nSuccess, with suite_area       0\nstreet           0\nneighborhood     0\ncondominium      0\ntax              0\nasking_price     0\nfull_address     0\nlatitude        26\nlongitude       26\ndtype: int64% na\nSaving to data/chunk_30.parquet\nSaved\nGetting coordinates for columns 1550 to 1600\nSuccess, with suite_area       0\nstreet           0\nneighborhood     0\ncondominium      0\ntax              0\nasking_price     0\nfull_address     0\nlatitude        16\nlongitude       16\ndtype: int64% na\nSaving to data/chunk_31.parquet\nSaved\nGetting coordinates for columns 1600 to 1650\nSuccess, with suite_area       0\nstreet           0\nneighborhood     0\ncondominium      0\ntax              0\nasking_price     0\nfull_address     0\nlatitude        21\nlongitude       21\ndtype: int64% na\nSaving to data/chunk_32.parquet\nSaved\nGetting coordinates for columns 1650 to 1700\nSuccess, with suite_area       0\nstreet           0\nneighborhood     0\ncondominium      0\ntax              0\nasking_price     0\nfull_address     0\nlatitude        24\nlongitude       24\ndtype: int64% na\nSaving to data/chunk_33.parquet\nSaved\nGetting coordinates for columns 1700 to 1750\nSuccess, with suite_area       0\nstreet           0\nneighborhood     0\ncondominium      0\ntax              0\nasking_price     0\nfull_address     0\nlatitude        22\nlongitude       22\ndtype: int64% na\nSaving to data/chunk_34.parquet\nSaved\nGetting coordinates for columns 1750 to 1800\nSuccess, with suite_area       0\nstreet           0\nneighborhood     0\ncondominium      0\ntax              0\nasking_price     0\nfull_address     0\nlatitude        15\nlongitude       15\ndtype: int64% na\nSaving to data/chunk_35.parquet\nSaved\nGetting coordinates for columns 1800 to 1850\nSuccess, with suite_area       0\nstreet           0\nneighborhood     0\ncondominium      0\ntax              0\nasking_price     0\nfull_address     0\nlatitude        18\nlongitude       18\ndtype: int64% na\nSaving to data/chunk_36.parquet\nSaved\nGetting coordinates for columns 1850 to 1900\nSuccess, with suite_area       0\nstreet           0\nneighborhood     0\ncondominium      0\ntax              0\nasking_price     0\nfull_address     0\nlatitude        19\nlongitude       19\ndtype: int64% na\nSaving to data/chunk_37.parquet\nSaved\nGetting coordinates for columns 1900 to 1950\nSuccess, with suite_area       0\nstreet           0\nneighborhood     0\ncondominium      0\ntax              0\nasking_price     0\nfull_address     0\nlatitude        14\nlongitude       14\ndtype: int64% na\nSaving to data/chunk_38.parquet\nSaved\nGetting coordinates for columns 1950 to 2000\nSuccess, with suite_area       0\nstreet           0\nneighborhood     0\ncondominium      0\ntax              0\nasking_price     0\nfull_address     0\nlatitude        24\nlongitude       24\ndtype: int64% na\nSaving to data/chunk_39.parquet\nSaved\nGetting coordinates for columns 2000 to 2050\nSuccess, with suite_area       0\nstreet           0\nneighborhood     0\ncondominium      0\ntax              0\nasking_price     0\nfull_address     0\nlatitude        19\nlongitude       19\ndtype: int64% na\nSaving to data/chunk_40.parquet\nSaved\nGetting coordinates for columns 2050 to 2100\nSuccess, with suite_area       0\nstreet           0\nneighborhood     0\ncondominium      0\ntax              0\nasking_price     0\nfull_address     0\nlatitude        24\nlongitude       24\ndtype: int64% na\nSaving to data/chunk_41.parquet\nSaved\nGetting coordinates for columns 2100 to 2150\nSuccess, with suite_area       0\nstreet           0\nneighborhood     0\ncondominium      0\ntax              0\nasking_price     0\nfull_address     0\nlatitude        28\nlongitude       28\ndtype: int64% na\nSaving to data/chunk_42.parquet\nSaved\nGetting coordinates for columns 2150 to 2200\nSuccess, with suite_area       0\nstreet           0\nneighborhood     0\ncondominium      0\ntax              0\nasking_price     0\nfull_address     0\nlatitude        16\nlongitude       16\ndtype: int64% na\nSaving to data/chunk_43.parquet\nSaved\nGetting coordinates for columns 2200 to 2250\nSuccess, with suite_area       0\nstreet           0\nneighborhood     0\ncondominium      0\ntax              0\nasking_price     0\nfull_address     0\nlatitude        22\nlongitude       22\ndtype: int64% na\nSaving to data/chunk_44.parquet\nSaved\nGetting coordinates for columns 2250 to 2300\nSuccess, with suite_area       0\nstreet           0\nneighborhood     0\ncondominium      0\ntax              0\nasking_price     0\nfull_address     0\nlatitude        24\nlongitude       24\ndtype: int64% na\nSaving to data/chunk_45.parquet\nSaved\nGetting coordinates for columns 2300 to 2350\nSuccess, with suite_area       0\nstreet           0\nneighborhood     0\ncondominium      0\ntax              0\nasking_price     0\nfull_address     0\nlatitude        25\nlongitude       25\ndtype: int64% na\nSaving to data/chunk_46.parquet\nSaved\nGetting coordinates for columns 2350 to 2400\nSuccess, with suite_area       0\nstreet           0\nneighborhood     0\ncondominium      0\ntax              0\nasking_price     0\nfull_address     0\nlatitude        22\nlongitude       22\ndtype: int64% na\nSaving to data/chunk_47.parquet\nSaved\n"
    }
   ],
   "execution_count": 3
  }
 ],
 "metadata": {
  "anaconda-cloud": {},
  "kernelspec": {
   "display_name": "python",
   "language": "python",
   "name": "python3"
  }
 },
 "nbformat": 4,
 "nbformat_minor": 4
}
