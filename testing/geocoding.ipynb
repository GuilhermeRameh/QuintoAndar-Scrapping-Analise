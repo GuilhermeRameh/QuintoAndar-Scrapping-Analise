{
 "cells": [
  {
   "cell_type": "markdown",
   "metadata": {
    "jukit_cell_id": "cPmSHzi4Ko"
   },
   "source": "# Geocoding the data"
  },
  {
   "cell_type": "code",
   "metadata": {
    "jukit_cell_id": "4di5OUS70t",
    "ExecuteTime": {
     "end_time": "2024-06-03T02:02:38.100196Z",
     "start_time": "2024-06-03T02:02:38.059577Z"
    }
   },
   "source": [
    "import pandas as pd\n",
    "from geopy.geocoders import Nominatim, ArcGIS, Photon\n",
    "from geopy.extra.rate_limiter import RateLimiter"
   ],
   "outputs": [],
   "execution_count": 1
  },
  {
   "cell_type": "code",
   "metadata": {
    "jukit_cell_id": "WBTgqosukn",
    "ExecuteTime": {
     "end_time": "2024-06-03T02:02:38.444158Z",
     "start_time": "2024-06-03T02:02:38.436908Z"
    }
   },
   "source": [
    "geolocator = Nominatim(user_agent='em_nome_do_pai')\n",
    "# geolocator = Photon()\n",
    "delayed_geocode = RateLimiter(geolocator.geocode, min_delay_seconds=1)"
   ],
   "outputs": [],
   "execution_count": 2
  },
  {
   "cell_type": "code",
   "metadata": {
    "jukit_cell_id": "M8P8J2blTh",
    "ExecuteTime": {
     "end_time": "2024-06-03T03:15:21.035582Z",
     "start_time": "2024-06-03T03:15:21.024706Z"
    }
   },
   "source": [
    "df = pd.read_parquet('../stock_cleaned.parquet')#.sample(n=50)\n",
    "df.shape"
   ],
   "outputs": [
    {
     "data": {
      "text/plain": [
       "(2297, 6)"
      ]
     },
     "execution_count": 24,
     "metadata": {},
     "output_type": "execute_result"
    }
   ],
   "execution_count": 24
  },
  {
   "metadata": {},
   "cell_type": "markdown",
   "source": "aqui pegamos apenas os endereços unicos pra evitar requests redundantes pro geocoder"
  },
  {
   "cell_type": "code",
   "metadata": {
    "jukit_cell_id": "hTlPK3bmGy",
    "ExecuteTime": {
     "end_time": "2024-06-03T03:15:24.410222Z",
     "start_time": "2024-06-03T03:15:24.403082Z"
    }
   },
   "source": "df['full_address'] = df.street + ', ' + df.neighborhood",
   "outputs": [],
   "execution_count": 25
  },
  {
   "metadata": {},
   "cell_type": "code",
   "outputs": [
    {
     "data": {
      "text/plain": [
       "                                           full_address\n",
       "0               Rua Lamute, São João Clímaco, São Paulo\n",
       "1           Rua Galeno de Castro, Jurubatuba, São Paulo\n",
       "2           Alameda Nothmann, Campos Elíseos, São Paulo\n",
       "3      Rua Luís Correia de Melo, Santo Amaro, São Paulo\n",
       "4                 Rua Jorge Rizzo, Pinheiros, São Paulo\n",
       "...                                                 ...\n",
       "1612               Rua Capitães Mores, Mooca, São Paulo\n",
       "1613  Avenida Diederichsen, Vila Guarani (z Sul), Sã...\n",
       "1614               Rua Eleutério, Campo Belo, São Paulo\n",
       "1615  Rua Paulo de Avelar, Vila Dom Pedro Ii, São Paulo\n",
       "1616              Rua São Joaquim, Liberdade, São Paulo\n",
       "\n",
       "[1617 rows x 1 columns]"
      ],
      "text/html": [
       "<div>\n",
       "<style scoped>\n",
       "    .dataframe tbody tr th:only-of-type {\n",
       "        vertical-align: middle;\n",
       "    }\n",
       "\n",
       "    .dataframe tbody tr th {\n",
       "        vertical-align: top;\n",
       "    }\n",
       "\n",
       "    .dataframe thead th {\n",
       "        text-align: right;\n",
       "    }\n",
       "</style>\n",
       "<table border=\"1\" class=\"dataframe\">\n",
       "  <thead>\n",
       "    <tr style=\"text-align: right;\">\n",
       "      <th></th>\n",
       "      <th>full_address</th>\n",
       "    </tr>\n",
       "  </thead>\n",
       "  <tbody>\n",
       "    <tr>\n",
       "      <th>0</th>\n",
       "      <td>Rua Lamute, São João Clímaco, São Paulo</td>\n",
       "    </tr>\n",
       "    <tr>\n",
       "      <th>1</th>\n",
       "      <td>Rua Galeno de Castro, Jurubatuba, São Paulo</td>\n",
       "    </tr>\n",
       "    <tr>\n",
       "      <th>2</th>\n",
       "      <td>Alameda Nothmann, Campos Elíseos, São Paulo</td>\n",
       "    </tr>\n",
       "    <tr>\n",
       "      <th>3</th>\n",
       "      <td>Rua Luís Correia de Melo, Santo Amaro, São Paulo</td>\n",
       "    </tr>\n",
       "    <tr>\n",
       "      <th>4</th>\n",
       "      <td>Rua Jorge Rizzo, Pinheiros, São Paulo</td>\n",
       "    </tr>\n",
       "    <tr>\n",
       "      <th>...</th>\n",
       "      <td>...</td>\n",
       "    </tr>\n",
       "    <tr>\n",
       "      <th>1612</th>\n",
       "      <td>Rua Capitães Mores, Mooca, São Paulo</td>\n",
       "    </tr>\n",
       "    <tr>\n",
       "      <th>1613</th>\n",
       "      <td>Avenida Diederichsen, Vila Guarani (z Sul), Sã...</td>\n",
       "    </tr>\n",
       "    <tr>\n",
       "      <th>1614</th>\n",
       "      <td>Rua Eleutério, Campo Belo, São Paulo</td>\n",
       "    </tr>\n",
       "    <tr>\n",
       "      <th>1615</th>\n",
       "      <td>Rua Paulo de Avelar, Vila Dom Pedro Ii, São Paulo</td>\n",
       "    </tr>\n",
       "    <tr>\n",
       "      <th>1616</th>\n",
       "      <td>Rua São Joaquim, Liberdade, São Paulo</td>\n",
       "    </tr>\n",
       "  </tbody>\n",
       "</table>\n",
       "<p>1617 rows × 1 columns</p>\n",
       "</div>"
      ]
     },
     "execution_count": 14,
     "metadata": {},
     "output_type": "execute_result"
    }
   ],
   "execution_count": 14,
   "source": [
    "unique_addresses = pd.DataFrame(df.full_address.unique(), columns=['full_address'])\n",
    "unique_addresses"
   ]
  },
  {
   "cell_type": "code",
   "metadata": {
    "jukit_cell_id": "GUyKjN7jrh",
    "ExecuteTime": {
     "end_time": "2024-06-03T02:08:56.309743Z",
     "start_time": "2024-06-03T02:08:56.303995Z"
    }
   },
   "source": [
    "def get_lat_long(address: str):\n",
    "    location = delayed_geocode(address)\n",
    "    \n",
    "    if location is not None:\n",
    "        return location.latitude, location.longitude\n",
    "\n",
    "    return None, None"
   ],
   "outputs": [],
   "execution_count": 15
  },
  {
   "cell_type": "code",
   "metadata": {
    "jukit_cell_id": "eODOt2qZPE"
   },
   "source": [
    "import time\n",
    "\n",
    "unique_addresses[['latitude', 'longitude']] = None, None\n",
    "\n",
    "n_rows = 50\n",
    "\n",
    "for i in range(len(unique_addresses.index)//n_rows):\n",
    "    print(f'Getting coordinates for rows {i*n_rows} to {(i+1)*n_rows}')\n",
    "    \n",
    "    tic = time.perf_counter()\n",
    "    \n",
    "    unique_addresses.iloc[i*n_rows:(i+1)*n_rows, [unique_addresses.columns.get_loc(c) for c in ['latitude', 'longitude']]] =unique_addresses.iloc[i*n_rows:(i+1)*n_rows].full_address.apply(lambda address: pd.Series(get_lat_long(address)))\n",
    "\n",
    "    tac = time.perf_counter()\n",
    "\n",
    "    print(f'Done {n_rows} rows in {tac-tic:.2f}s ({n_rows/(tac-tic):.2f} rows/s). NA count:\\n{unique_addresses.iloc[i*n_rows:(i+1)*n_rows].isna().sum()}')\n",
    "\n",
    "\n",
    "    file_path = f'../data/chunks/cleaned_chunk_{i}.parquet'\n",
    "    \n",
    "    print(f'Saving to {file_path}')\n",
    "\n",
    "    unique_addresses.iloc[i*n_rows:(i+1)*n_rows].to_parquet(file_path)\n",
    "\n",
    "    print('Saved\\n')\n"
   ],
   "outputs": [],
   "execution_count": null
  },
  {
   "metadata": {
    "ExecuteTime": {
     "end_time": "2024-06-03T03:15:35.220680Z",
     "start_time": "2024-06-03T03:15:35.206577Z"
    }
   },
   "cell_type": "code",
   "source": [
    "df = pd.merge(df, unique_addresses, on='full_address', how='left')\n",
    "df"
   ],
   "outputs": [
    {
     "data": {
      "text/plain": [
       "      suite_area                     street                     neighborhood  \\\n",
       "0             70                 Rua Lamute      São João Clímaco, São Paulo   \n",
       "1             34       Rua Galeno de Castro            Jurubatuba, São Paulo   \n",
       "2             12           Alameda Nothmann        Campos Elíseos, São Paulo   \n",
       "3             33   Rua Luís Correia de Melo           Santo Amaro, São Paulo   \n",
       "4            104            Rua Jorge Rizzo             Pinheiros, São Paulo   \n",
       "...          ...                        ...                              ...   \n",
       "2292          29              Rua Eleutério            Campo Belo, São Paulo   \n",
       "2293          25         Rua General Jardim          Vila Buarque, São Paulo   \n",
       "2294          99        Rua Paulo de Avelar     Vila Dom Pedro Ii, São Paulo   \n",
       "2295         100  Avenida Leonardo da Vinci  Vila Guarani (z Sul), São Paulo   \n",
       "2296          32            Rua São Joaquim             Liberdade, São Paulo   \n",
       "\n",
       "      condominium  tax  asking_price  \\\n",
       "0               0   59          1100   \n",
       "1               0    0          2725   \n",
       "2             150   69          1515   \n",
       "3             506   91          2700   \n",
       "4            1680    0          5600   \n",
       "...           ...  ...           ...   \n",
       "2292          355   25          2868   \n",
       "2293          550    0          1950   \n",
       "2294          150    0          3100   \n",
       "2295            0    0          3500   \n",
       "2296          509    0          1235   \n",
       "\n",
       "                                           full_address   latitude  longitude  \n",
       "0               Rua Lamute, São João Clímaco, São Paulo -23.625642 -46.591113  \n",
       "1           Rua Galeno de Castro, Jurubatuba, São Paulo        NaN        NaN  \n",
       "2           Alameda Nothmann, Campos Elíseos, São Paulo        NaN        NaN  \n",
       "3      Rua Luís Correia de Melo, Santo Amaro, São Paulo -23.633037 -46.715464  \n",
       "4                 Rua Jorge Rizzo, Pinheiros, São Paulo -23.571447 -46.696173  \n",
       "...                                                 ...        ...        ...  \n",
       "2292               Rua Eleutério, Campo Belo, São Paulo       None       None  \n",
       "2293        Rua General Jardim, Vila Buarque, São Paulo -23.544719 -46.646533  \n",
       "2294  Rua Paulo de Avelar, Vila Dom Pedro Ii, São Paulo       None       None  \n",
       "2295  Avenida Leonardo da Vinci, Vila Guarani (z Sul...        NaN        NaN  \n",
       "2296              Rua São Joaquim, Liberdade, São Paulo       None       None  \n",
       "\n",
       "[2297 rows x 9 columns]"
      ],
      "text/html": [
       "<div>\n",
       "<style scoped>\n",
       "    .dataframe tbody tr th:only-of-type {\n",
       "        vertical-align: middle;\n",
       "    }\n",
       "\n",
       "    .dataframe tbody tr th {\n",
       "        vertical-align: top;\n",
       "    }\n",
       "\n",
       "    .dataframe thead th {\n",
       "        text-align: right;\n",
       "    }\n",
       "</style>\n",
       "<table border=\"1\" class=\"dataframe\">\n",
       "  <thead>\n",
       "    <tr style=\"text-align: right;\">\n",
       "      <th></th>\n",
       "      <th>suite_area</th>\n",
       "      <th>street</th>\n",
       "      <th>neighborhood</th>\n",
       "      <th>condominium</th>\n",
       "      <th>tax</th>\n",
       "      <th>asking_price</th>\n",
       "      <th>full_address</th>\n",
       "      <th>latitude</th>\n",
       "      <th>longitude</th>\n",
       "    </tr>\n",
       "  </thead>\n",
       "  <tbody>\n",
       "    <tr>\n",
       "      <th>0</th>\n",
       "      <td>70</td>\n",
       "      <td>Rua Lamute</td>\n",
       "      <td>São João Clímaco, São Paulo</td>\n",
       "      <td>0</td>\n",
       "      <td>59</td>\n",
       "      <td>1100</td>\n",
       "      <td>Rua Lamute, São João Clímaco, São Paulo</td>\n",
       "      <td>-23.625642</td>\n",
       "      <td>-46.591113</td>\n",
       "    </tr>\n",
       "    <tr>\n",
       "      <th>1</th>\n",
       "      <td>34</td>\n",
       "      <td>Rua Galeno de Castro</td>\n",
       "      <td>Jurubatuba, São Paulo</td>\n",
       "      <td>0</td>\n",
       "      <td>0</td>\n",
       "      <td>2725</td>\n",
       "      <td>Rua Galeno de Castro, Jurubatuba, São Paulo</td>\n",
       "      <td>NaN</td>\n",
       "      <td>NaN</td>\n",
       "    </tr>\n",
       "    <tr>\n",
       "      <th>2</th>\n",
       "      <td>12</td>\n",
       "      <td>Alameda Nothmann</td>\n",
       "      <td>Campos Elíseos, São Paulo</td>\n",
       "      <td>150</td>\n",
       "      <td>69</td>\n",
       "      <td>1515</td>\n",
       "      <td>Alameda Nothmann, Campos Elíseos, São Paulo</td>\n",
       "      <td>NaN</td>\n",
       "      <td>NaN</td>\n",
       "    </tr>\n",
       "    <tr>\n",
       "      <th>3</th>\n",
       "      <td>33</td>\n",
       "      <td>Rua Luís Correia de Melo</td>\n",
       "      <td>Santo Amaro, São Paulo</td>\n",
       "      <td>506</td>\n",
       "      <td>91</td>\n",
       "      <td>2700</td>\n",
       "      <td>Rua Luís Correia de Melo, Santo Amaro, São Paulo</td>\n",
       "      <td>-23.633037</td>\n",
       "      <td>-46.715464</td>\n",
       "    </tr>\n",
       "    <tr>\n",
       "      <th>4</th>\n",
       "      <td>104</td>\n",
       "      <td>Rua Jorge Rizzo</td>\n",
       "      <td>Pinheiros, São Paulo</td>\n",
       "      <td>1680</td>\n",
       "      <td>0</td>\n",
       "      <td>5600</td>\n",
       "      <td>Rua Jorge Rizzo, Pinheiros, São Paulo</td>\n",
       "      <td>-23.571447</td>\n",
       "      <td>-46.696173</td>\n",
       "    </tr>\n",
       "    <tr>\n",
       "      <th>...</th>\n",
       "      <td>...</td>\n",
       "      <td>...</td>\n",
       "      <td>...</td>\n",
       "      <td>...</td>\n",
       "      <td>...</td>\n",
       "      <td>...</td>\n",
       "      <td>...</td>\n",
       "      <td>...</td>\n",
       "      <td>...</td>\n",
       "    </tr>\n",
       "    <tr>\n",
       "      <th>2292</th>\n",
       "      <td>29</td>\n",
       "      <td>Rua Eleutério</td>\n",
       "      <td>Campo Belo, São Paulo</td>\n",
       "      <td>355</td>\n",
       "      <td>25</td>\n",
       "      <td>2868</td>\n",
       "      <td>Rua Eleutério, Campo Belo, São Paulo</td>\n",
       "      <td>None</td>\n",
       "      <td>None</td>\n",
       "    </tr>\n",
       "    <tr>\n",
       "      <th>2293</th>\n",
       "      <td>25</td>\n",
       "      <td>Rua General Jardim</td>\n",
       "      <td>Vila Buarque, São Paulo</td>\n",
       "      <td>550</td>\n",
       "      <td>0</td>\n",
       "      <td>1950</td>\n",
       "      <td>Rua General Jardim, Vila Buarque, São Paulo</td>\n",
       "      <td>-23.544719</td>\n",
       "      <td>-46.646533</td>\n",
       "    </tr>\n",
       "    <tr>\n",
       "      <th>2294</th>\n",
       "      <td>99</td>\n",
       "      <td>Rua Paulo de Avelar</td>\n",
       "      <td>Vila Dom Pedro Ii, São Paulo</td>\n",
       "      <td>150</td>\n",
       "      <td>0</td>\n",
       "      <td>3100</td>\n",
       "      <td>Rua Paulo de Avelar, Vila Dom Pedro Ii, São Paulo</td>\n",
       "      <td>None</td>\n",
       "      <td>None</td>\n",
       "    </tr>\n",
       "    <tr>\n",
       "      <th>2295</th>\n",
       "      <td>100</td>\n",
       "      <td>Avenida Leonardo da Vinci</td>\n",
       "      <td>Vila Guarani (z Sul), São Paulo</td>\n",
       "      <td>0</td>\n",
       "      <td>0</td>\n",
       "      <td>3500</td>\n",
       "      <td>Avenida Leonardo da Vinci, Vila Guarani (z Sul...</td>\n",
       "      <td>NaN</td>\n",
       "      <td>NaN</td>\n",
       "    </tr>\n",
       "    <tr>\n",
       "      <th>2296</th>\n",
       "      <td>32</td>\n",
       "      <td>Rua São Joaquim</td>\n",
       "      <td>Liberdade, São Paulo</td>\n",
       "      <td>509</td>\n",
       "      <td>0</td>\n",
       "      <td>1235</td>\n",
       "      <td>Rua São Joaquim, Liberdade, São Paulo</td>\n",
       "      <td>None</td>\n",
       "      <td>None</td>\n",
       "    </tr>\n",
       "  </tbody>\n",
       "</table>\n",
       "<p>2297 rows × 9 columns</p>\n",
       "</div>"
      ]
     },
     "execution_count": 26,
     "metadata": {},
     "output_type": "execute_result"
    }
   ],
   "execution_count": 26
  },
  {
   "metadata": {
    "ExecuteTime": {
     "end_time": "2024-06-03T03:18:54.079282Z",
     "start_time": "2024-06-03T03:18:54.072799Z"
    }
   },
   "cell_type": "code",
   "source": "df['asking_price'] = df.asking_price / df.suite_area",
   "outputs": [],
   "execution_count": 28
  },
  {
   "metadata": {
    "ExecuteTime": {
     "end_time": "2024-06-03T03:19:24.505846Z",
     "start_time": "2024-06-03T03:19:24.500693Z"
    }
   },
   "cell_type": "code",
   "source": [
    "df = df.dropna(\n",
    "\tsubset=['latitude', 'longitude']\n",
    ")\n",
    "df.shape"
   ],
   "outputs": [
    {
     "data": {
      "text/plain": [
       "(1317, 9)"
      ]
     },
     "execution_count": 29,
     "metadata": {},
     "output_type": "execute_result"
    }
   ],
   "execution_count": 29
  },
  {
   "metadata": {
    "ExecuteTime": {
     "end_time": "2024-06-03T03:19:26.082310Z",
     "start_time": "2024-06-03T03:19:26.064826Z"
    }
   },
   "cell_type": "code",
   "source": "df.to_parquet('../data/geocoded_stock.parquet')",
   "outputs": [],
   "execution_count": 30
  }
 ],
 "metadata": {
  "anaconda-cloud": {},
  "kernelspec": {
   "display_name": "python",
   "language": "python",
   "name": "python3"
  }
 },
 "nbformat": 4,
 "nbformat_minor": 4
}
