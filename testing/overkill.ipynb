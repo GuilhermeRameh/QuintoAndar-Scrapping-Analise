{
 "cells": [
  {
   "cell_type": "code",
   "metadata": {
    "jukit_cell_id": "Wt1Mxhjp5k",
    "ExecuteTime": {
     "end_time": "2024-06-03T02:49:46.283030Z",
     "start_time": "2024-06-03T02:49:45.051862Z"
    }
   },
   "source": [
    "from kan import *\n",
    "import torch\n",
    "\n",
    "# create a KAN: 2D inputs, 1D output, and 5 hidden neurons. cubic spline (k=3), 5 grid intervals (grid=5).\n",
    "device = torch.device('cuda' if torch.cuda.is_available() else 'cpu')\n",
    "print(device)\n",
    "model = KAN(width=[3,2,3,1], grid=8, k=3, seed=0, device=device)"
   ],
   "outputs": [
    {
     "name": "stdout",
     "output_type": "stream",
     "text": [
      "cuda\n"
     ]
    }
   ],
   "execution_count": 1
  },
  {
   "cell_type": "code",
   "metadata": {
    "jukit_cell_id": "5y6hCMYfrr",
    "ExecuteTime": {
     "end_time": "2024-06-03T02:49:46.307648Z",
     "start_time": "2024-06-03T02:49:46.283996Z"
    }
   },
   "source": [
    "import pandas as pd\n",
    "\n",
    "df = pd.read_parquet('../data/main_cluster.parquet')\n",
    "df.info()"
   ],
   "outputs": [
    {
     "name": "stdout",
     "output_type": "stream",
     "text": [
      "<class 'pandas.core.frame.DataFrame'>\n",
      "Index: 2644 entries, 1001 to 947\n",
      "Data columns (total 9 columns):\n",
      " #   Column        Non-Null Count  Dtype  \n",
      "---  ------        --------------  -----  \n",
      " 0   suite_area    2644 non-null   int64  \n",
      " 1   street        2644 non-null   object \n",
      " 2   neighborhood  2644 non-null   object \n",
      " 3   condominium   2644 non-null   int64  \n",
      " 4   tax           2644 non-null   int64  \n",
      " 5   asking_price  2644 non-null   float64\n",
      " 6   full_address  2644 non-null   object \n",
      " 7   latitude      2644 non-null   float64\n",
      " 8   longitude     2644 non-null   float64\n",
      "dtypes: float64(3), int64(3), object(3)\n",
      "memory usage: 206.6+ KB\n"
     ]
    }
   ],
   "execution_count": 2
  },
  {
   "cell_type": "code",
   "metadata": {
    "jukit_cell_id": "2wxtMiQZvM",
    "ExecuteTime": {
     "end_time": "2024-06-03T02:49:46.383891Z",
     "start_time": "2024-06-03T02:49:46.374827Z"
    }
   },
   "source": [
    "df = df.filter(\n",
    "    items=[\n",
    "        'suite_area',\n",
    "        'latitude',\n",
    "        'longitude',\n",
    "        'asking_price'\n",
    "    ]\n",
    ")\n",
    "df.info()"
   ],
   "outputs": [
    {
     "name": "stdout",
     "output_type": "stream",
     "text": [
      "<class 'pandas.core.frame.DataFrame'>\n",
      "Index: 2644 entries, 1001 to 947\n",
      "Data columns (total 4 columns):\n",
      " #   Column        Non-Null Count  Dtype  \n",
      "---  ------        --------------  -----  \n",
      " 0   suite_area    2644 non-null   int64  \n",
      " 1   latitude      2644 non-null   float64\n",
      " 2   longitude     2644 non-null   float64\n",
      " 3   asking_price  2644 non-null   float64\n",
      "dtypes: float64(3), int64(1)\n",
      "memory usage: 103.3 KB\n"
     ]
    }
   ],
   "execution_count": 3
  },
  {
   "cell_type": "code",
   "metadata": {
    "jukit_cell_id": "DrrrpzklPO",
    "ExecuteTime": {
     "end_time": "2024-06-03T02:49:47.099715Z",
     "start_time": "2024-06-03T02:49:47.092934Z"
    }
   },
   "source": [
    "from sklearn.model_selection import train_test_split\n",
    "\n",
    "X_train, X_test, y_train, y_test = train_test_split(df.drop('asking_price', axis=1), df.asking_price)\n",
    "\n",
    "X_train.shape, X_test.shape, y_train.shape, y_test.shape"
   ],
   "outputs": [
    {
     "data": {
      "text/plain": [
       "((1983, 3), (661, 3), (1983,), (661,))"
      ]
     },
     "execution_count": 4,
     "metadata": {},
     "output_type": "execute_result"
    }
   ],
   "execution_count": 4
  },
  {
   "cell_type": "code",
   "metadata": {
    "jukit_cell_id": "bwtCc8OMKO",
    "ExecuteTime": {
     "end_time": "2024-06-03T02:49:51.499168Z",
     "start_time": "2024-06-03T02:49:51.492086Z"
    }
   },
   "source": [
    "X_train_tensor = torch.tensor(X_train.values, device=device)\n",
    "y_train_tensor = torch.tensor(y_train.values, device=device)\n",
    "\n",
    "X_test_tensor = torch.tensor(X_test.values, device=device)\n",
    "y_test_tensor = torch.tensor(y_test.values, device=device)\n",
    "\n",
    "dataset = {\n",
    "    'train_input' : X_train_tensor,\n",
    "    'train_label' : y_train_tensor,\n",
    "    'test_input'  : X_test_tensor,\n",
    "    'test_label'  : y_test_tensor,\n",
    "}"
   ],
   "outputs": [],
   "execution_count": 6
  },
  {
   "cell_type": "code",
   "metadata": {
    "jukit_cell_id": "VKAxuare3T",
    "ExecuteTime": {
     "end_time": "2024-06-03T02:49:53.782712Z",
     "start_time": "2024-06-03T02:49:52.243157Z"
    }
   },
   "source": [
    "model(dataset['train_input'])\n",
    "model.plot(beta=1000)"
   ],
   "outputs": [
    {
     "data": {
      "text/plain": [
       "<Figure size 500x600 with 16 Axes>"
      ],
      "image/png": "[encoded data removed]"
     },
     "metadata": {},
     "output_type": "display_data"
    }
   ],
   "execution_count": 7
  },
  {
   "metadata": {
    "ExecuteTime": {
     "end_time": "2024-06-03T02:52:52.587837Z",
     "start_time": "2024-06-03T02:52:52.575370Z"
    }
   },
   "cell_type": "code",
   "source": "[i for i in model.parameters()]",
   "outputs": [
    {
     "data": {
      "text/plain": [
       "[Parameter containing:\n",
       " tensor([[-0., 0.]], device='cuda:0', requires_grad=True),\n",
       " Parameter containing:\n",
       " tensor([[0., 0., -0.]], device='cuda:0', requires_grad=True),\n",
       " Parameter containing:\n",
       " tensor([[-0.]], device='cuda:0', requires_grad=True),\n",
       " Parameter containing:\n",
       " tensor([[-1.0000, -0.7500, -0.5000, -0.2500,  0.0000,  0.2500,  0.5000,  0.7500,\n",
       "           1.0000],\n",
       "         [-1.0000, -0.7500, -0.5000, -0.2500,  0.0000,  0.2500,  0.5000,  0.7500,\n",
       "           1.0000],\n",
       "         [-1.0000, -0.7500, -0.5000, -0.2500,  0.0000,  0.2500,  0.5000,  0.7500,\n",
       "           1.0000],\n",
       "         [-1.0000, -0.7500, -0.5000, -0.2500,  0.0000,  0.2500,  0.5000,  0.7500,\n",
       "           1.0000],\n",
       "         [-1.0000, -0.7500, -0.5000, -0.2500,  0.0000,  0.2500,  0.5000,  0.7500,\n",
       "           1.0000],\n",
       "         [-1.0000, -0.7500, -0.5000, -0.2500,  0.0000,  0.2500,  0.5000,  0.7500,\n",
       "           1.0000]], device='cuda:0'),\n",
       " Parameter containing:\n",
       " tensor([[-0.0019, -0.0076, -0.0035, -0.0032,  0.0007,  0.0018,  0.0070, -0.0073,\n",
       "          -0.0032,  0.0039,  0.0011],\n",
       "         [ 0.0030,  0.0087, -0.0065,  0.0096, -0.0037, -0.0010,  0.0114, -0.0109,\n",
       "          -0.0028, -0.0016, -0.0005],\n",
       "         [-0.0026, -0.0059,  0.0118, -0.0088, -0.0009, -0.0048, -0.0060, -0.0063,\n",
       "           0.0091,  0.0020, -0.0002],\n",
       "         [ 0.0008,  0.0041,  0.0011, -0.0065,  0.0056, -0.0094, -0.0030, -0.0057,\n",
       "           0.0064,  0.0038,  0.0004],\n",
       "         [-0.0009, -0.0038, -0.0004,  0.0042,  0.0077,  0.0022, -0.0015,  0.0088,\n",
       "          -0.0086,  0.0035,  0.0017],\n",
       "         [-0.0014, -0.0060, -0.0038, -0.0050,  0.0043,  0.0046, -0.0076,  0.0035,\n",
       "           0.0048, -0.0022, -0.0008]], device='cuda:0', requires_grad=True),\n",
       " Parameter containing:\n",
       " tensor([0.7855, 0.4187, 0.0416, 0.5910, 0.2604, 0.1976], device='cuda:0',\n",
       "        requires_grad=True),\n",
       " Parameter containing:\n",
       " tensor([1., 1., 1., 1., 1., 1.], device='cuda:0', requires_grad=True),\n",
       " Parameter containing:\n",
       " tensor([1., 1., 1., 1., 1., 1.], device='cuda:0'),\n",
       " Parameter containing:\n",
       " tensor([[-1.0000, -0.7500, -0.5000, -0.2500,  0.0000,  0.2500,  0.5000,  0.7500,\n",
       "           1.0000],\n",
       "         [-1.0000, -0.7500, -0.5000, -0.2500,  0.0000,  0.2500,  0.5000,  0.7500,\n",
       "           1.0000],\n",
       "         [-1.0000, -0.7500, -0.5000, -0.2500,  0.0000,  0.2500,  0.5000,  0.7500,\n",
       "           1.0000],\n",
       "         [-1.0000, -0.7500, -0.5000, -0.2500,  0.0000,  0.2500,  0.5000,  0.7500,\n",
       "           1.0000],\n",
       "         [-1.0000, -0.7500, -0.5000, -0.2500,  0.0000,  0.2500,  0.5000,  0.7500,\n",
       "           1.0000],\n",
       "         [-1.0000, -0.7500, -0.5000, -0.2500,  0.0000,  0.2500,  0.5000,  0.7500,\n",
       "           1.0000]], device='cuda:0'),\n",
       " Parameter containing:\n",
       " tensor([[ 0.0005,  0.0017, -0.0038, -0.0100,  0.0088,  0.0081, -0.0128,  0.0056,\n",
       "          -0.0028, -0.0009,  0.0001],\n",
       "         [-0.0022, -0.0055,  0.0071, -0.0086,  0.0050,  0.0022,  0.0050,  0.0046,\n",
       "          -0.0095, -0.0036, -0.0002],\n",
       "         [ 0.0008,  0.0038,  0.0026, -0.0065, -0.0060,  0.0089,  0.0055, -0.0058,\n",
       "           0.0012, -0.0086, -0.0025],\n",
       "         [ 0.0006,  0.0011, -0.0059, -0.0058,  0.0001,  0.0032, -0.0071,  0.0100,\n",
       "          -0.0108,  0.0103,  0.0038],\n",
       "         [ 0.0029,  0.0082, -0.0100,  0.0001,  0.0001,  0.0010,  0.0012,  0.0032,\n",
       "           0.0009, -0.0045, -0.0012],\n",
       "         [ 0.0023,  0.0063, -0.0098, -0.0030, -0.0005, -0.0044, -0.0003, -0.0074,\n",
       "          -0.0006,  0.0021,  0.0004]], device='cuda:0', requires_grad=True),\n",
       " Parameter containing:\n",
       " tensor([0.7386, 0.7948, 0.8335, 0.4780, 0.2530, 0.6500], device='cuda:0',\n",
       "        requires_grad=True),\n",
       " Parameter containing:\n",
       " tensor([1., 1., 1., 1., 1., 1.], device='cuda:0', requires_grad=True),\n",
       " Parameter containing:\n",
       " tensor([1., 1., 1., 1., 1., 1.], device='cuda:0'),\n",
       " Parameter containing:\n",
       " tensor([[-1.0000, -0.7500, -0.5000, -0.2500,  0.0000,  0.2500,  0.5000,  0.7500,\n",
       "           1.0000],\n",
       "         [-1.0000, -0.7500, -0.5000, -0.2500,  0.0000,  0.2500,  0.5000,  0.7500,\n",
       "           1.0000],\n",
       "         [-1.0000, -0.7500, -0.5000, -0.2500,  0.0000,  0.2500,  0.5000,  0.7500,\n",
       "           1.0000]], device='cuda:0'),\n",
       " Parameter containing:\n",
       " tensor([[ 2.1523e-03,  7.8929e-03,  1.7979e-03,  8.7300e-03, -1.1151e-03,\n",
       "          -6.9817e-03, -4.6451e-03,  7.7841e-03, -9.5735e-04, -4.1978e-03,\n",
       "          -8.9073e-04],\n",
       "         [-1.1428e-03, -5.4272e-03, -5.8849e-03, -6.1275e-03, -1.2554e-03,\n",
       "           3.5428e-03,  7.6493e-03, -1.3866e-02,  1.1649e-02, -9.3383e-03,\n",
       "          -3.6399e-03],\n",
       "         [-9.9556e-05, -1.1421e-03, -3.2599e-03, -1.0235e-03,  1.3083e-04,\n",
       "          -6.8627e-03, -6.3308e-03, -1.9324e-04,  1.2357e-03, -4.2647e-03,\n",
       "          -1.2121e-03]], device='cuda:0', requires_grad=True),\n",
       " Parameter containing:\n",
       " tensor([0.1634, 0.7237, 0.7563], device='cuda:0', requires_grad=True),\n",
       " Parameter containing:\n",
       " tensor([1., 1., 1.], device='cuda:0', requires_grad=True),\n",
       " Parameter containing:\n",
       " tensor([1., 1., 1.], device='cuda:0'),\n",
       " Parameter containing:\n",
       " tensor([[0., 0., 0.],\n",
       "         [0., 0., 0.]], device='cuda:0'),\n",
       " Parameter containing:\n",
       " tensor([[[0., 0., 0., 0.],\n",
       "          [0., 0., 0., 0.],\n",
       "          [0., 0., 0., 0.]],\n",
       " \n",
       "         [[0., 0., 0., 0.],\n",
       "          [0., 0., 0., 0.],\n",
       "          [0., 0., 0., 0.]]], device='cuda:0', requires_grad=True),\n",
       " Parameter containing:\n",
       " tensor([[0., 0.],\n",
       "         [0., 0.],\n",
       "         [0., 0.]], device='cuda:0'),\n",
       " Parameter containing:\n",
       " tensor([[[0., 0., 0., 0.],\n",
       "          [0., 0., 0., 0.]],\n",
       " \n",
       "         [[0., 0., 0., 0.],\n",
       "          [0., 0., 0., 0.]],\n",
       " \n",
       "         [[0., 0., 0., 0.],\n",
       "          [0., 0., 0., 0.]]], device='cuda:0', requires_grad=True),\n",
       " Parameter containing:\n",
       " tensor([[0., 0., 0.]], device='cuda:0'),\n",
       " Parameter containing:\n",
       " tensor([[[0., 0., 0., 0.],\n",
       "          [0., 0., 0., 0.],\n",
       "          [0., 0., 0., 0.]]], device='cuda:0', requires_grad=True)]"
      ]
     },
     "execution_count": 28,
     "metadata": {},
     "output_type": "execute_result"
    }
   ],
   "execution_count": 28
  },
  {
   "cell_type": "code",
   "metadata": {
    "jukit_cell_id": "cyvUD9u0ni",
    "ExecuteTime": {
     "end_time": "2024-06-03T02:53:28.877757Z",
     "start_time": "2024-06-03T02:53:28.814102Z"
    }
   },
   "source": [
    "model.train(dataset, opt=\"LBFGS\", steps=50, lamb=0.01, lamb_entropy=10.);"
   ],
   "outputs": [
    {
     "name": "stderr",
     "output_type": "stream",
     "text": [
      "description:   0%|                                                           | 0/50 [00:00<?, ?it/s]\n"
     ]
    },
    {
     "ename": "RuntimeError",
     "evalue": "Expected all tensors to be on the same device, but found at least two devices, cuda:0 and cpu!",
     "output_type": "error",
     "traceback": [
      "\u001B[0;31m---------------------------------------------------------------------------\u001B[0m",
      "\u001B[0;31mRuntimeError\u001B[0m                              Traceback (most recent call last)",
      "Cell \u001B[0;32mIn[29], line 1\u001B[0m\n\u001B[0;32m----> 1\u001B[0m \u001B[43mmodel\u001B[49m\u001B[38;5;241;43m.\u001B[39;49m\u001B[43mtrain\u001B[49m\u001B[43m(\u001B[49m\u001B[43mdataset\u001B[49m\u001B[43m,\u001B[49m\u001B[43m \u001B[49m\u001B[43mopt\u001B[49m\u001B[38;5;241;43m=\u001B[39;49m\u001B[38;5;124;43m\"\u001B[39;49m\u001B[38;5;124;43mLBFGS\u001B[39;49m\u001B[38;5;124;43m\"\u001B[39;49m\u001B[43m,\u001B[49m\u001B[43m \u001B[49m\u001B[43msteps\u001B[49m\u001B[38;5;241;43m=\u001B[39;49m\u001B[38;5;241;43m50\u001B[39;49m\u001B[43m,\u001B[49m\u001B[43m \u001B[49m\u001B[43mlamb\u001B[49m\u001B[38;5;241;43m=\u001B[39;49m\u001B[38;5;241;43m0.01\u001B[39;49m\u001B[43m,\u001B[49m\u001B[43m \u001B[49m\u001B[43mlamb_entropy\u001B[49m\u001B[38;5;241;43m=\u001B[39;49m\u001B[38;5;241;43m10.\u001B[39;49m\u001B[43m)\u001B[49m;\n",
      "File \u001B[0;32m~/personal/insper/analise_de_texto_e_fontes_desestruturadas_e_web/QuintoAndar-Scrapping-Analise/.venv/lib/python3.12/site-packages/kan/KAN.py:898\u001B[0m, in \u001B[0;36mKAN.train\u001B[0;34m(self, dataset, opt, steps, log, lamb, lamb_l1, lamb_entropy, lamb_coef, lamb_coefdiff, update_grid, grid_update_num, loss_fn, lr, stop_grid_update_step, batch, small_mag_threshold, small_reg_factor, metrics, sglr_avoid, save_fig, in_vars, out_vars, beta, save_fig_freq, img_folder, device)\u001B[0m\n\u001B[1;32m    895\u001B[0m test_id \u001B[38;5;241m=\u001B[39m np\u001B[38;5;241m.\u001B[39mrandom\u001B[38;5;241m.\u001B[39mchoice(dataset[\u001B[38;5;124m'\u001B[39m\u001B[38;5;124mtest_input\u001B[39m\u001B[38;5;124m'\u001B[39m]\u001B[38;5;241m.\u001B[39mshape[\u001B[38;5;241m0\u001B[39m], batch_size_test, replace\u001B[38;5;241m=\u001B[39m\u001B[38;5;28;01mFalse\u001B[39;00m)\n\u001B[1;32m    897\u001B[0m \u001B[38;5;28;01mif\u001B[39;00m _ \u001B[38;5;241m%\u001B[39m grid_update_freq \u001B[38;5;241m==\u001B[39m \u001B[38;5;241m0\u001B[39m \u001B[38;5;129;01mand\u001B[39;00m _ \u001B[38;5;241m<\u001B[39m stop_grid_update_step \u001B[38;5;129;01mand\u001B[39;00m update_grid:\n\u001B[0;32m--> 898\u001B[0m     \u001B[38;5;28;43mself\u001B[39;49m\u001B[38;5;241;43m.\u001B[39;49m\u001B[43mupdate_grid_from_samples\u001B[49m\u001B[43m(\u001B[49m\u001B[43mdataset\u001B[49m\u001B[43m[\u001B[49m\u001B[38;5;124;43m'\u001B[39;49m\u001B[38;5;124;43mtrain_input\u001B[39;49m\u001B[38;5;124;43m'\u001B[39;49m\u001B[43m]\u001B[49m\u001B[43m[\u001B[49m\u001B[43mtrain_id\u001B[49m\u001B[43m]\u001B[49m\u001B[38;5;241;43m.\u001B[39;49m\u001B[43mto\u001B[49m\u001B[43m(\u001B[49m\u001B[43mdevice\u001B[49m\u001B[43m)\u001B[49m\u001B[43m)\u001B[49m\n\u001B[1;32m    900\u001B[0m \u001B[38;5;28;01mif\u001B[39;00m opt \u001B[38;5;241m==\u001B[39m \u001B[38;5;124m\"\u001B[39m\u001B[38;5;124mLBFGS\u001B[39m\u001B[38;5;124m\"\u001B[39m:\n\u001B[1;32m    901\u001B[0m     optimizer\u001B[38;5;241m.\u001B[39mstep(closure)\n",
      "File \u001B[0;32m~/personal/insper/analise_de_texto_e_fontes_desestruturadas_e_web/QuintoAndar-Scrapping-Analise/.venv/lib/python3.12/site-packages/kan/KAN.py:243\u001B[0m, in \u001B[0;36mKAN.update_grid_from_samples\u001B[0;34m(self, x)\u001B[0m\n\u001B[1;32m    220\u001B[0m \u001B[38;5;250m\u001B[39m\u001B[38;5;124;03m'''\u001B[39;00m\n\u001B[1;32m    221\u001B[0m \u001B[38;5;124;03mupdate grid from samples\u001B[39;00m\n\u001B[1;32m    222\u001B[0m \u001B[38;5;124;03m\u001B[39;00m\n\u001B[0;32m   (...)\u001B[0m\n\u001B[1;32m    240\u001B[0m \u001B[38;5;124;03mtensor([0.0128, 1.0064, 2.0000, 2.9937, 3.9873, 4.9809])\u001B[39;00m\n\u001B[1;32m    241\u001B[0m \u001B[38;5;124;03m'''\u001B[39;00m\n\u001B[1;32m    242\u001B[0m \u001B[38;5;28;01mfor\u001B[39;00m l \u001B[38;5;129;01min\u001B[39;00m \u001B[38;5;28mrange\u001B[39m(\u001B[38;5;28mself\u001B[39m\u001B[38;5;241m.\u001B[39mdepth):\n\u001B[0;32m--> 243\u001B[0m     \u001B[38;5;28;43mself\u001B[39;49m\u001B[38;5;241;43m.\u001B[39;49m\u001B[43mforward\u001B[49m\u001B[43m(\u001B[49m\u001B[43mx\u001B[49m\u001B[43m)\u001B[49m\n\u001B[1;32m    244\u001B[0m     \u001B[38;5;28mself\u001B[39m\u001B[38;5;241m.\u001B[39mact_fun[l]\u001B[38;5;241m.\u001B[39mupdate_grid_from_samples(\u001B[38;5;28mself\u001B[39m\u001B[38;5;241m.\u001B[39macts[l])\n",
      "File \u001B[0;32m~/personal/insper/analise_de_texto_e_fontes_desestruturadas_e_web/QuintoAndar-Scrapping-Analise/.venv/lib/python3.12/site-packages/kan/KAN.py:311\u001B[0m, in \u001B[0;36mKAN.forward\u001B[0;34m(self, x)\u001B[0m\n\u001B[1;32m    307\u001B[0m \u001B[38;5;28mself\u001B[39m\u001B[38;5;241m.\u001B[39macts\u001B[38;5;241m.\u001B[39mappend(x)  \u001B[38;5;66;03m# acts shape: (batch, width[l])\u001B[39;00m\n\u001B[1;32m    309\u001B[0m \u001B[38;5;28;01mfor\u001B[39;00m l \u001B[38;5;129;01min\u001B[39;00m \u001B[38;5;28mrange\u001B[39m(\u001B[38;5;28mself\u001B[39m\u001B[38;5;241m.\u001B[39mdepth):\n\u001B[0;32m--> 311\u001B[0m     x_numerical, preacts, postacts_numerical, postspline \u001B[38;5;241m=\u001B[39m \u001B[38;5;28;43mself\u001B[39;49m\u001B[38;5;241;43m.\u001B[39;49m\u001B[43mact_fun\u001B[49m\u001B[43m[\u001B[49m\u001B[43ml\u001B[49m\u001B[43m]\u001B[49m\u001B[43m(\u001B[49m\u001B[43mx\u001B[49m\u001B[43m)\u001B[49m\n\u001B[1;32m    313\u001B[0m     \u001B[38;5;28;01mif\u001B[39;00m \u001B[38;5;28mself\u001B[39m\u001B[38;5;241m.\u001B[39msymbolic_enabled \u001B[38;5;241m==\u001B[39m \u001B[38;5;28;01mTrue\u001B[39;00m:\n\u001B[1;32m    314\u001B[0m         x_symbolic, postacts_symbolic \u001B[38;5;241m=\u001B[39m \u001B[38;5;28mself\u001B[39m\u001B[38;5;241m.\u001B[39msymbolic_fun[l](x)\n",
      "File \u001B[0;32m~/personal/insper/analise_de_texto_e_fontes_desestruturadas_e_web/QuintoAndar-Scrapping-Analise/.venv/lib/python3.12/site-packages/torch/nn/modules/module.py:1532\u001B[0m, in \u001B[0;36mModule._wrapped_call_impl\u001B[0;34m(self, *args, **kwargs)\u001B[0m\n\u001B[1;32m   1530\u001B[0m     \u001B[38;5;28;01mreturn\u001B[39;00m \u001B[38;5;28mself\u001B[39m\u001B[38;5;241m.\u001B[39m_compiled_call_impl(\u001B[38;5;241m*\u001B[39margs, \u001B[38;5;241m*\u001B[39m\u001B[38;5;241m*\u001B[39mkwargs)  \u001B[38;5;66;03m# type: ignore[misc]\u001B[39;00m\n\u001B[1;32m   1531\u001B[0m \u001B[38;5;28;01melse\u001B[39;00m:\n\u001B[0;32m-> 1532\u001B[0m     \u001B[38;5;28;01mreturn\u001B[39;00m \u001B[38;5;28;43mself\u001B[39;49m\u001B[38;5;241;43m.\u001B[39;49m\u001B[43m_call_impl\u001B[49m\u001B[43m(\u001B[49m\u001B[38;5;241;43m*\u001B[39;49m\u001B[43margs\u001B[49m\u001B[43m,\u001B[49m\u001B[43m \u001B[49m\u001B[38;5;241;43m*\u001B[39;49m\u001B[38;5;241;43m*\u001B[39;49m\u001B[43mkwargs\u001B[49m\u001B[43m)\u001B[49m\n",
      "File \u001B[0;32m~/personal/insper/analise_de_texto_e_fontes_desestruturadas_e_web/QuintoAndar-Scrapping-Analise/.venv/lib/python3.12/site-packages/torch/nn/modules/module.py:1541\u001B[0m, in \u001B[0;36mModule._call_impl\u001B[0;34m(self, *args, **kwargs)\u001B[0m\n\u001B[1;32m   1536\u001B[0m \u001B[38;5;66;03m# If we don't have any hooks, we want to skip the rest of the logic in\u001B[39;00m\n\u001B[1;32m   1537\u001B[0m \u001B[38;5;66;03m# this function, and just call forward.\u001B[39;00m\n\u001B[1;32m   1538\u001B[0m \u001B[38;5;28;01mif\u001B[39;00m \u001B[38;5;129;01mnot\u001B[39;00m (\u001B[38;5;28mself\u001B[39m\u001B[38;5;241m.\u001B[39m_backward_hooks \u001B[38;5;129;01mor\u001B[39;00m \u001B[38;5;28mself\u001B[39m\u001B[38;5;241m.\u001B[39m_backward_pre_hooks \u001B[38;5;129;01mor\u001B[39;00m \u001B[38;5;28mself\u001B[39m\u001B[38;5;241m.\u001B[39m_forward_hooks \u001B[38;5;129;01mor\u001B[39;00m \u001B[38;5;28mself\u001B[39m\u001B[38;5;241m.\u001B[39m_forward_pre_hooks\n\u001B[1;32m   1539\u001B[0m         \u001B[38;5;129;01mor\u001B[39;00m _global_backward_pre_hooks \u001B[38;5;129;01mor\u001B[39;00m _global_backward_hooks\n\u001B[1;32m   1540\u001B[0m         \u001B[38;5;129;01mor\u001B[39;00m _global_forward_hooks \u001B[38;5;129;01mor\u001B[39;00m _global_forward_pre_hooks):\n\u001B[0;32m-> 1541\u001B[0m     \u001B[38;5;28;01mreturn\u001B[39;00m \u001B[43mforward_call\u001B[49m\u001B[43m(\u001B[49m\u001B[38;5;241;43m*\u001B[39;49m\u001B[43margs\u001B[49m\u001B[43m,\u001B[49m\u001B[43m \u001B[49m\u001B[38;5;241;43m*\u001B[39;49m\u001B[38;5;241;43m*\u001B[39;49m\u001B[43mkwargs\u001B[49m\u001B[43m)\u001B[49m\n\u001B[1;32m   1543\u001B[0m \u001B[38;5;28;01mtry\u001B[39;00m:\n\u001B[1;32m   1544\u001B[0m     result \u001B[38;5;241m=\u001B[39m \u001B[38;5;28;01mNone\u001B[39;00m\n",
      "File \u001B[0;32m~/personal/insper/analise_de_texto_e_fontes_desestruturadas_e_web/QuintoAndar-Scrapping-Analise/.venv/lib/python3.12/site-packages/kan/KANLayer.py:170\u001B[0m, in \u001B[0;36mKANLayer.forward\u001B[0;34m(self, x)\u001B[0m\n\u001B[1;32m    168\u001B[0m batch \u001B[38;5;241m=\u001B[39m x\u001B[38;5;241m.\u001B[39mshape[\u001B[38;5;241m0\u001B[39m]\n\u001B[1;32m    169\u001B[0m \u001B[38;5;66;03m# x: shape (batch, in_dim) => shape (size, batch) (size = out_dim * in_dim)\u001B[39;00m\n\u001B[0;32m--> 170\u001B[0m x \u001B[38;5;241m=\u001B[39m \u001B[43mtorch\u001B[49m\u001B[38;5;241;43m.\u001B[39;49m\u001B[43meinsum\u001B[49m\u001B[43m(\u001B[49m\u001B[38;5;124;43m'\u001B[39;49m\u001B[38;5;124;43mij,k->ikj\u001B[39;49m\u001B[38;5;124;43m'\u001B[39;49m\u001B[43m,\u001B[49m\u001B[43m \u001B[49m\u001B[43mx\u001B[49m\u001B[43m,\u001B[49m\u001B[43m \u001B[49m\u001B[43mtorch\u001B[49m\u001B[38;5;241;43m.\u001B[39;49m\u001B[43mones\u001B[49m\u001B[43m(\u001B[49m\u001B[38;5;28;43mself\u001B[39;49m\u001B[38;5;241;43m.\u001B[39;49m\u001B[43mout_dim\u001B[49m\u001B[43m,\u001B[49m\u001B[43m \u001B[49m\u001B[43mdevice\u001B[49m\u001B[38;5;241;43m=\u001B[39;49m\u001B[38;5;28;43mself\u001B[39;49m\u001B[38;5;241;43m.\u001B[39;49m\u001B[43mdevice\u001B[49m\u001B[43m)\u001B[49m\u001B[43m)\u001B[49m\u001B[38;5;241m.\u001B[39mreshape(batch, \u001B[38;5;28mself\u001B[39m\u001B[38;5;241m.\u001B[39msize)\u001B[38;5;241m.\u001B[39mpermute(\u001B[38;5;241m1\u001B[39m, \u001B[38;5;241m0\u001B[39m)\n\u001B[1;32m    171\u001B[0m preacts \u001B[38;5;241m=\u001B[39m x\u001B[38;5;241m.\u001B[39mpermute(\u001B[38;5;241m1\u001B[39m, \u001B[38;5;241m0\u001B[39m)\u001B[38;5;241m.\u001B[39mclone()\u001B[38;5;241m.\u001B[39mreshape(batch, \u001B[38;5;28mself\u001B[39m\u001B[38;5;241m.\u001B[39mout_dim, \u001B[38;5;28mself\u001B[39m\u001B[38;5;241m.\u001B[39min_dim)\n\u001B[1;32m    172\u001B[0m base \u001B[38;5;241m=\u001B[39m \u001B[38;5;28mself\u001B[39m\u001B[38;5;241m.\u001B[39mbase_fun(x)\u001B[38;5;241m.\u001B[39mpermute(\u001B[38;5;241m1\u001B[39m, \u001B[38;5;241m0\u001B[39m)  \u001B[38;5;66;03m# shape (batch, size)\u001B[39;00m\n",
      "File \u001B[0;32m~/personal/insper/analise_de_texto_e_fontes_desestruturadas_e_web/QuintoAndar-Scrapping-Analise/.venv/lib/python3.12/site-packages/torch/functional.py:385\u001B[0m, in \u001B[0;36meinsum\u001B[0;34m(*args)\u001B[0m\n\u001B[1;32m    380\u001B[0m     \u001B[38;5;28;01mreturn\u001B[39;00m einsum(equation, \u001B[38;5;241m*\u001B[39m_operands)\n\u001B[1;32m    382\u001B[0m \u001B[38;5;28;01mif\u001B[39;00m \u001B[38;5;28mlen\u001B[39m(operands) \u001B[38;5;241m<\u001B[39m\u001B[38;5;241m=\u001B[39m \u001B[38;5;241m2\u001B[39m \u001B[38;5;129;01mor\u001B[39;00m \u001B[38;5;129;01mnot\u001B[39;00m opt_einsum\u001B[38;5;241m.\u001B[39menabled:\n\u001B[1;32m    383\u001B[0m     \u001B[38;5;66;03m# the path for contracting 0 or 1 time(s) is already optimized\u001B[39;00m\n\u001B[1;32m    384\u001B[0m     \u001B[38;5;66;03m# or the user has disabled using opt_einsum\u001B[39;00m\n\u001B[0;32m--> 385\u001B[0m     \u001B[38;5;28;01mreturn\u001B[39;00m \u001B[43m_VF\u001B[49m\u001B[38;5;241;43m.\u001B[39;49m\u001B[43meinsum\u001B[49m\u001B[43m(\u001B[49m\u001B[43mequation\u001B[49m\u001B[43m,\u001B[49m\u001B[43m \u001B[49m\u001B[43moperands\u001B[49m\u001B[43m)\u001B[49m  \u001B[38;5;66;03m# type: ignore[attr-defined]\u001B[39;00m\n\u001B[1;32m    387\u001B[0m path \u001B[38;5;241m=\u001B[39m \u001B[38;5;28;01mNone\u001B[39;00m\n\u001B[1;32m    388\u001B[0m \u001B[38;5;28;01mif\u001B[39;00m opt_einsum\u001B[38;5;241m.\u001B[39mis_available():\n",
      "\u001B[0;31mRuntimeError\u001B[0m: Expected all tensors to be on the same device, but found at least two devices, cuda:0 and cpu!"
     ]
    }
   ],
   "execution_count": 29
  },
  {
   "metadata": {},
   "cell_type": "code",
   "source": "model.plot()",
   "outputs": [],
   "execution_count": null
  },
  {
   "metadata": {},
   "cell_type": "code",
   "source": [
    "model.prune()\n",
    "model.plot(mask=True)"
   ],
   "outputs": [],
   "execution_count": null
  },
  {
   "metadata": {},
   "cell_type": "code",
   "source": [
    "model = model.prune()\n",
    "model(dataset['train_input'])\n",
    "model.plot()"
   ],
   "outputs": [],
   "execution_count": null
  },
  {
   "metadata": {},
   "cell_type": "code",
   "source": "model.train(dataset, opt=\"LBFGS\", steps=50);",
   "outputs": [],
   "execution_count": null
  },
  {
   "metadata": {},
   "cell_type": "code",
   "source": "model.plot()",
   "outputs": [],
   "execution_count": null
  }
 ],
 "metadata": {
  "anaconda-cloud": {},
  "kernelspec": {
   "display_name": "python",
   "language": "python",
   "name": "python3"
  }
 },
 "nbformat": 4,
 "nbformat_minor": 4
}
