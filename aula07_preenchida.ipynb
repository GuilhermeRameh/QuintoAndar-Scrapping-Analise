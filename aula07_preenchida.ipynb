{
 "cells": [
  {
   "metadata": {
    "ExecuteTime": {
     "end_time": "2024-05-06T21:00:33.549008Z",
     "start_time": "2024-05-06T21:00:24.769111Z"
    }
   },
   "cell_type": "code",
   "source": [
    "from selenium import webdriver\n",
    "from selenium.common.exceptions import StaleElementReferenceException\n",
    "from selenium.webdriver.common.by import By\n",
    "from selenium.webdriver.support.ui import WebDriverWait\n",
    "from selenium.webdriver.support import expected_conditions as EC\n",
    "\n",
    "chrome_options = webdriver.ChromeOptions()\n",
    "chrome_options.add_argument('--headless') # ensure GUI is off\n",
    "driver = webdriver.Chrome(options=chrome_options)\n",
    "driver.set_page_load_timeout(60)\n",
    "url = 'https://www.quintoandar.com.br/alugar/imovel/sao-paulo-sp-brasil'\n",
    "driver.get(url)\n",
    "driver.implicitly_wait(10)\n",
    "\n",
    "wait = WebDriverWait(driver, timeout=5)"
   ],
   "id": "a5c5aab3c56c5845",
   "outputs": [],
   "execution_count": 1
  },
  {
   "metadata": {
    "ExecuteTime": {
     "end_time": "2024-05-06T21:00:59.690925Z",
     "start_time": "2024-05-06T21:00:41.725407Z"
    }
   },
   "cell_type": "code",
   "source": [
    "horas = []\n",
    "\n",
    "for i in range(10):\n",
    "    try:\n",
    "        horas = driver.find_elements(By.XPATH, '//main/section[2]/div/div')\n",
    "        wait.until(EC.element_to_be_clickable((By.XPATH, '//main/section[2]/div/div[last()-2]/button')))\n",
    "        horas[-3].click()\n",
    "        wait.until(EC.staleness_of(horas[-3]))\n",
    "\n",
    "    except Exception as err:\n",
    "        print(f'\\nse fudeu em {i}: {err = }\\n')\n",
    "\n",
    "        if isinstance(err, StaleElementReferenceException):\n",
    "            print(\"Attempting to recover from StaleElementReferenceException\")\n",
    "            wait.until(EC.element_to_be_clickable((By.XPATH, '//main/section[2]/div/div[last()-2]/button')))\n",
    "        else:\n",
    "            raise err\n",
    "\n",
    "    print(f'list size on iteration {i}: {len(horas)}')"
   ],
   "id": "a95a7cedbc2625b2",
   "outputs": [
    {
     "name": "stdout",
     "output_type": "stream",
     "text": [
      "list size on iteration 0: 16\n",
      "list size on iteration 1: 28\n",
      "list size on iteration 2: 40\n",
      "list size on iteration 3: 52\n",
      "list size on iteration 4: 64\n",
      "list size on iteration 5: 76\n",
      "list size on iteration 6: 88\n",
      "list size on iteration 7: 100\n",
      "list size on iteration 8: 112\n",
      "list size on iteration 9: 124\n"
     ]
    }
   ],
   "execution_count": 2
  },
  {
   "metadata": {
    "ExecuteTime": {
     "end_time": "2024-05-06T20:23:45.370371Z",
     "start_time": "2024-05-06T20:23:45.317332Z"
    }
   },
   "cell_type": "code",
   "source": "horas[4].text.split('\\n')",
   "id": "b0e6bc14e9129147",
   "outputs": [
    {
     "data": {
      "text/plain": [
       "['Exclusivo',\n",
       " 'Anúncio novo',\n",
       " 'Casa em condomínio',\n",
       " 'R$ 2.084 total',\n",
       " 'R$ 2.000 aluguel',\n",
       " '60 m² · 2 quartos · 2 vagas',\n",
       " 'Rua Doutor Renato Maia, Jardim Jaú (zona Leste) · São Paulo']"
      ]
     },
     "execution_count": 18,
     "metadata": {},
     "output_type": "execute_result"
    }
   ],
   "execution_count": 18
  },
  {
   "metadata": {
    "ExecuteTime": {
     "end_time": "2024-05-06T20:55:11.763596Z",
     "start_time": "2024-05-06T20:55:11.744915Z"
    }
   },
   "cell_type": "code",
   "source": "horas[4].find_element(by=By.TAG_NAME, value='a').get_property('href')",
   "id": "d07fbd4a62a17d76",
   "outputs": [
    {
     "data": {
      "text/plain": [
       "'https://www.quintoandar.com.br/imovel/894410806/alugar/casa-2-quartos-jardim-jau-zona-leste-sao-paulo'"
      ]
     },
     "execution_count": 26,
     "metadata": {},
     "output_type": "execute_result"
    }
   ],
   "execution_count": 26
  },
  {
   "metadata": {
    "ExecuteTime": {
     "end_time": "2024-05-06T21:06:06.126534Z",
     "start_time": "2024-05-06T21:06:06.120369Z"
    }
   },
   "cell_type": "code",
   "source": "len(horas)",
   "id": "38daa43e20a89951",
   "outputs": [
    {
     "data": {
      "text/plain": [
       "124"
      ]
     },
     "execution_count": 8,
     "metadata": {},
     "output_type": "execute_result"
    }
   ],
   "execution_count": 8
  },
  {
   "metadata": {
    "ExecuteTime": {
     "end_time": "2024-05-06T21:10:15.765577Z",
     "start_time": "2024-05-06T21:10:14.679629Z"
    }
   },
   "cell_type": "code",
   "source": [
    "links = []\n",
    "# os divs de interesse vao desde o segundo ate o anteantepenultimo\n",
    "for i, div in enumerate(horas[1:-4]):\n",
    "    current_link = div.find_element(by=By.TAG_NAME, value='a').get_property('href')\n",
    "    print(f'link at iteration {i} {current_link}')\n",
    "    links.append(current_link)"
   ],
   "id": "17990b1e953dcbb6",
   "outputs": [
    {
     "name": "stdout",
     "output_type": "stream",
     "text": [
      "link at iteration 0 https://www.quintoandar.com.br/imovel/893693970/alugar/kitnet-1-quarto-indianopolis-sao-paulo\n",
      "link at iteration 1 https://www.quintoandar.com.br/imovel/892920653/alugar/casa-1-quarto-vila-parque-jabaquara-sao-paulo\n",
      "link at iteration 2 https://www.quintoandar.com.br/imovel/892950505/alugar/casa-2-quartos-sapopemba-sao-paulo\n",
      "link at iteration 3 https://www.quintoandar.com.br/imovel/894410806/alugar/casa-2-quartos-jardim-jau-zona-leste-sao-paulo\n",
      "link at iteration 4 https://www.quintoandar.com.br/imovel/893352003/alugar/apartamento-2-quartos-jurubatuba-sao-paulo\n",
      "link at iteration 5 https://www.quintoandar.com.br/imovel/892882148/alugar/apartamento-2-quartos-campo-belo-sao-paulo\n",
      "link at iteration 6 https://www.quintoandar.com.br/imovel/892857366/alugar/casa-2-quartos-vila-babilonia-sao-paulo\n",
      "link at iteration 7 https://www.quintoandar.com.br/imovel/893525207/alugar/apartamento-2-quartos-jardim-planalto-sao-paulo\n",
      "link at iteration 8 https://www.quintoandar.com.br/imovel/892993701/alugar/casa-2-quartos-vila-ema-sao-paulo\n",
      "link at iteration 9 https://www.quintoandar.com.br/imovel/894429030/alugar/apartamento-2-quartos-vila-zilda-sao-paulo\n",
      "link at iteration 10 https://www.quintoandar.com.br/imovel/892845071/alugar/apartamento-1-quarto-vila-gomes-sao-paulo\n",
      "link at iteration 11 https://www.quintoandar.com.br/imovel/893226330/alugar/apartamento-2-quartos-jurubatuba-sao-paulo\n",
      "link at iteration 12 https://www.quintoandar.com.br/imovel/894458593/alugar/casa-3-quartos-vila-bertioga-sao-paulo\n",
      "link at iteration 13 https://www.quintoandar.com.br/imovel/894467239/alugar/apartamento-3-quartos-vila-gumercindo-sao-paulo\n",
      "link at iteration 14 https://www.quintoandar.com.br/imovel/894402690/alugar/apartamento-3-quartos-vila-bertioga-sao-paulo\n",
      "link at iteration 15 https://www.quintoandar.com.br/imovel/894159892/alugar/apartamento-2-quartos-centro-historico-de-sao-paulo-sao-paulo\n",
      "link at iteration 16 https://www.quintoandar.com.br/imovel/894448037/alugar/casa-3-quartos-chacara-cruzeiro-do-sul-sao-paulo\n",
      "link at iteration 17 https://www.quintoandar.com.br/imovel/893464893/alugar/apartamento-3-quartos-vila-da-saude-sao-paulo\n",
      "link at iteration 18 https://www.quintoandar.com.br/imovel/894466901/alugar/casa-3-quartos-vila-antonieta-sao-paulo\n",
      "link at iteration 19 https://www.quintoandar.com.br/imovel/894405424/alugar/apartamento-2-quartos-vila-gustavo-sao-paulo\n",
      "link at iteration 20 https://www.quintoandar.com.br/imovel/894484451/alugar/apartamento-2-quartos-chacara-santo-antonio-zona-leste-sao-paulo\n",
      "link at iteration 21 https://www.quintoandar.com.br/imovel/894483748/alugar/casa-2-quartos-maranhao-sao-paulo\n",
      "link at iteration 22 https://www.quintoandar.com.br/imovel/894484029/alugar/apartamento-2-quartos-vila-do-encontro-sao-paulo\n",
      "link at iteration 23 https://www.quintoandar.com.br/imovel/894484508/alugar/apartamento-1-quarto-vila-formosa-sao-paulo\n",
      "link at iteration 24 https://www.quintoandar.com.br/imovel/894484523/alugar/apartamento-2-quartos-vila-formosa-sao-paulo\n",
      "link at iteration 25 https://www.quintoandar.com.br/imovel/894484370/alugar/apartamento-1-quarto-vila-carrao-sao-paulo\n",
      "link at iteration 26 https://www.quintoandar.com.br/imovel/894484495/alugar/apartamento-1-quarto-vila-formosa-sao-paulo\n",
      "link at iteration 27 https://www.quintoandar.com.br/imovel/894467710/alugar/apartamento-1-quarto-itaim-bibi-sao-paulo\n",
      "link at iteration 28 https://www.quintoandar.com.br/imovel/894469416/alugar/casa-3-quartos-catumbi-sao-paulo\n",
      "link at iteration 29 https://www.quintoandar.com.br/imovel/893280188/alugar/casa-3-quartos-vila-nova-sao-paulo\n",
      "link at iteration 30 https://www.quintoandar.com.br/imovel/893704667/alugar/apartamento-3-quartos-vila-medeiros-sao-paulo\n",
      "link at iteration 31 https://www.quintoandar.com.br/imovel/893406927/alugar/apartamento-3-quartos-jardim-das-acacias-sao-paulo\n",
      "link at iteration 32 https://www.quintoandar.com.br/imovel/894468890/alugar/apartamento-2-quartos-jardim-ester-sao-paulo\n",
      "link at iteration 33 https://www.quintoandar.com.br/imovel/894469072/alugar/apartamento-2-quartos-vila-santa-isabel-sao-paulo\n",
      "link at iteration 34 https://www.quintoandar.com.br/imovel/894429032/alugar/apartamento-2-quartos-vila-aricanduva-sao-paulo\n",
      "link at iteration 35 https://www.quintoandar.com.br/imovel/893630383/alugar/apartamento-2-quartos-vila-paulista-sao-paulo\n",
      "link at iteration 36 https://www.quintoandar.com.br/imovel/894467505/alugar/apartamento-3-quartos-jardim-vila-formosa-sao-paulo\n",
      "link at iteration 37 https://www.quintoandar.com.br/imovel/894437291/alugar/apartamento-2-quartos-cidade-moncoes-sao-paulo\n",
      "link at iteration 38 https://www.quintoandar.com.br/imovel/894468195/alugar/casa-4-quartos-vila-tolstoi-sao-paulo\n",
      "link at iteration 39 https://www.quintoandar.com.br/imovel/893794030/alugar/apartamento-1-quarto-liberdade-sao-paulo\n",
      "link at iteration 40 https://www.quintoandar.com.br/imovel/893780824/alugar/apartamento-2-quartos-jardim-nosso-lar-sao-paulo\n",
      "link at iteration 41 https://www.quintoandar.com.br/imovel/892834621/alugar/apartamento-3-quartos-vila-suzana-sao-paulo\n",
      "link at iteration 42 https://www.quintoandar.com.br/imovel/893279241/alugar/casa-2-quartos-vila-bela-vista-zona-norte-sao-paulo\n",
      "link at iteration 43 https://www.quintoandar.com.br/imovel/893567138/alugar/kitnet-1-quarto-vila-moraes-sao-paulo\n",
      "link at iteration 44 https://www.quintoandar.com.br/imovel/893452362/alugar/kitnet-1-quarto-cambuci-sao-paulo\n",
      "link at iteration 45 https://www.quintoandar.com.br/imovel/893161648/alugar/apartamento-1-quarto-liberdade-sao-paulo\n",
      "link at iteration 46 https://www.quintoandar.com.br/imovel/893902961/alugar/apartamento-1-quarto-jardim-da-gloria-sao-paulo\n",
      "link at iteration 47 https://www.quintoandar.com.br/imovel/894005463/alugar/casa-2-quartos-vila-euthalia-sao-paulo\n",
      "link at iteration 48 https://www.quintoandar.com.br/imovel/893169681/alugar/apartamento-1-quarto-vila-mariana-sao-paulo\n",
      "link at iteration 49 https://www.quintoandar.com.br/imovel/894126841/alugar/apartamento-2-quartos-cerqueira-cesar-sao-paulo\n",
      "link at iteration 50 https://www.quintoandar.com.br/imovel/894477531/alugar/apartamento-2-quartos-loteamento-city-jaragua-sao-paulo\n",
      "link at iteration 51 https://www.quintoandar.com.br/imovel/892795639/alugar/apartamento-1-quarto-cambuci-sao-paulo\n",
      "link at iteration 52 https://www.quintoandar.com.br/imovel/894478680/alugar/apartamento-1-quarto-butanta-sao-paulo\n",
      "link at iteration 53 https://www.quintoandar.com.br/imovel/894457076/alugar/apartamento-3-quartos-vila-bancaria-sao-paulo\n",
      "link at iteration 54 https://www.quintoandar.com.br/imovel/892865462/alugar/apartamento-4-quartos-vila-mariana-sao-paulo\n",
      "link at iteration 55 https://www.quintoandar.com.br/imovel/893643086/alugar/apartamento-2-quartos-bom-retiro-sao-paulo\n",
      "link at iteration 56 https://www.quintoandar.com.br/imovel/893475728/alugar/casa-3-quartos-cambuci-sao-paulo\n",
      "link at iteration 57 https://www.quintoandar.com.br/imovel/892872569/alugar/kitnet-1-quarto-campos-eliseos-sao-paulo\n",
      "link at iteration 58 https://www.quintoandar.com.br/imovel/893449438/alugar/casa-2-quartos-jardim-panorama-zona-leste-sao-paulo\n",
      "link at iteration 59 https://www.quintoandar.com.br/imovel/894450978/alugar/casa-3-quartos-vila-prudente-sao-paulo\n",
      "link at iteration 60 https://www.quintoandar.com.br/imovel/893522528/alugar/apartamento-2-quartos-bela-vista-sao-paulo\n",
      "link at iteration 61 https://www.quintoandar.com.br/imovel/893598025/alugar/kitnet-1-quarto-centro-sao-paulo\n",
      "link at iteration 62 https://www.quintoandar.com.br/imovel/894469667/alugar/apartamento-2-quartos-jardim-matarazzo-sao-paulo\n",
      "link at iteration 63 https://www.quintoandar.com.br/imovel/893784738/alugar/apartamento-2-quartos-bras-sao-paulo\n",
      "link at iteration 64 https://www.quintoandar.com.br/imovel/894463416/alugar/apartamento-2-quartos-jardim-imperador-zona-leste-sao-paulo\n",
      "link at iteration 65 https://www.quintoandar.com.br/imovel/893312922/alugar/casa-1-quarto-vila-buenos-aires-sao-paulo\n",
      "link at iteration 66 https://www.quintoandar.com.br/imovel/893952946/alugar/apartamento-2-quartos-pinheiros-sao-paulo\n",
      "link at iteration 67 https://www.quintoandar.com.br/imovel/893420375/alugar/apartamento-2-quartos-vila-curuca-velha-sao-paulo\n",
      "link at iteration 68 https://www.quintoandar.com.br/imovel/893322790/alugar/casa-4-quartos-vila-moinho-velho-sao-paulo\n",
      "link at iteration 69 https://www.quintoandar.com.br/imovel/892785701/alugar/apartamento-2-quartos-itaim-bibi-sao-paulo\n",
      "link at iteration 70 https://www.quintoandar.com.br/imovel/894260076/alugar/casa-2-quartos-vila-invernada-sao-paulo\n",
      "link at iteration 71 https://www.quintoandar.com.br/imovel/893419436/alugar/kitnet-1-quarto-moema-sao-paulo\n",
      "link at iteration 72 https://www.quintoandar.com.br/imovel/892788567/alugar/kitnet-1-quarto-santa-cecilia-sao-paulo\n",
      "link at iteration 73 https://www.quintoandar.com.br/imovel/893488308/alugar/casa-1-quarto-jardim-independencia-sao-paulo\n",
      "link at iteration 74 https://www.quintoandar.com.br/imovel/894481157/alugar/apartamento-2-quartos-colonia-zona-leste-sao-paulo\n",
      "link at iteration 75 https://www.quintoandar.com.br/imovel/892855293/alugar/kitnet-1-quarto-centro-sao-paulo\n",
      "link at iteration 76 https://www.quintoandar.com.br/imovel/893408409/alugar/apartamento-2-quartos-jardim-castelo-sao-paulo\n",
      "link at iteration 77 https://www.quintoandar.com.br/imovel/893383388/alugar/casa-3-quartos-parada-inglesa-sao-paulo\n",
      "link at iteration 78 https://www.quintoandar.com.br/imovel/893186795/alugar/apartamento-2-quartos-jardim-vergueiro-sao-paulo\n",
      "link at iteration 79 https://www.quintoandar.com.br/imovel/893393105/alugar/apartamento-3-quartos-barra-funda-sao-paulo\n",
      "link at iteration 80 https://www.quintoandar.com.br/imovel/893949364/alugar/kitnet-1-quarto-liberdade-sao-paulo\n",
      "link at iteration 81 https://www.quintoandar.com.br/imovel/894003950/alugar/apartamento-3-quartos-pompeia-sao-paulo\n",
      "link at iteration 82 https://www.quintoandar.com.br/imovel/893422710/alugar/apartamento-2-quartos-cerqueira-cesar-sao-paulo\n",
      "link at iteration 83 https://www.quintoandar.com.br/imovel/893305492/alugar/apartamento-2-quartos-vila-mascote-sao-paulo\n",
      "link at iteration 84 https://www.quintoandar.com.br/imovel/893274775/alugar/apartamento-2-quartos-vila-andrade-sao-paulo\n",
      "link at iteration 85 https://www.quintoandar.com.br/imovel/893266351/alugar/apartamento-2-quartos-jardim-franca-sao-paulo\n",
      "link at iteration 86 https://www.quintoandar.com.br/imovel/893530526/alugar/apartamento-1-quarto-jardim-ibitirama-sao-paulo\n",
      "link at iteration 87 https://www.quintoandar.com.br/imovel/893798865/alugar/apartamento-2-quartos-brooklin-sao-paulo\n",
      "link at iteration 88 https://www.quintoandar.com.br/imovel/892948800/alugar/kitnet-1-quarto-butanta-sao-paulo\n",
      "link at iteration 89 https://www.quintoandar.com.br/imovel/892862128/alugar/casa-3-quartos-bosque-da-saude-sao-paulo\n",
      "link at iteration 90 https://www.quintoandar.com.br/imovel/893940449/alugar/kitnet-1-quarto-consolacao-sao-paulo\n",
      "link at iteration 91 https://www.quintoandar.com.br/imovel/893331708/alugar/casa-2-quartos-vila-fachini-sao-paulo\n",
      "link at iteration 92 https://www.quintoandar.com.br/imovel/893909859/alugar/kitnet-1-quarto-santana-sao-paulo\n",
      "link at iteration 93 https://www.quintoandar.com.br/imovel/894480956/alugar/casa-2-quartos-vila-nhocune-sao-paulo\n",
      "link at iteration 94 https://www.quintoandar.com.br/imovel/892826242/alugar/apartamento-1-quarto-consolacao-sao-paulo\n",
      "link at iteration 95 https://www.quintoandar.com.br/imovel/893433659/alugar/apartamento-2-quartos-itaquera-sao-paulo\n",
      "link at iteration 96 https://www.quintoandar.com.br/imovel/894053533/alugar/kitnet-1-quarto-vila-clementino-sao-paulo\n",
      "link at iteration 97 https://www.quintoandar.com.br/imovel/893357616/alugar/apartamento-2-quartos-vila-marieta-sao-paulo\n",
      "link at iteration 98 https://www.quintoandar.com.br/imovel/893810636/alugar/apartamento-1-quarto-cambuci-sao-paulo\n",
      "link at iteration 99 https://www.quintoandar.com.br/imovel/894482998/alugar/casa-2-quartos-jardim-das-rosas-zona-leste-sao-paulo\n",
      "link at iteration 100 https://www.quintoandar.com.br/imovel/893215415/alugar/apartamento-3-quartos-tatuape-sao-paulo\n",
      "link at iteration 101 https://www.quintoandar.com.br/imovel/894480331/alugar/apartamento-3-quartos-vila-itaim-sao-paulo\n",
      "link at iteration 102 https://www.quintoandar.com.br/imovel/893161317/alugar/kitnet-1-quarto-centro-historico-de-sao-paulo-sao-paulo\n",
      "link at iteration 103 https://www.quintoandar.com.br/imovel/893877130/alugar/apartamento-1-quarto-barra-funda-sao-paulo\n",
      "link at iteration 104 https://www.quintoandar.com.br/imovel/893673065/alugar/apartamento-1-quarto-vila-ivone-sao-paulo\n",
      "link at iteration 105 https://www.quintoandar.com.br/imovel/892969261/alugar/casa-3-quartos-vila-ema-sao-paulo\n",
      "link at iteration 106 https://www.quintoandar.com.br/imovel/894015743/alugar/kitnet-1-quarto-republica-sao-paulo\n",
      "link at iteration 107 https://www.quintoandar.com.br/imovel/894131524/alugar/apartamento-2-quartos-cambuci-sao-paulo\n",
      "link at iteration 108 https://www.quintoandar.com.br/imovel/893996816/alugar/apartamento-1-quarto-barra-funda-sao-paulo\n",
      "link at iteration 109 https://www.quintoandar.com.br/imovel/894480576/alugar/apartamento-2-quartos-vila-carmosina-sao-paulo\n",
      "link at iteration 110 https://www.quintoandar.com.br/imovel/893527978/alugar/apartamento-1-quarto-republica-sao-paulo\n",
      "link at iteration 111 https://www.quintoandar.com.br/imovel/892872078/alugar/apartamento-2-quartos-vila-andrade-sao-paulo\n",
      "link at iteration 112 https://www.quintoandar.com.br/imovel/893870626/alugar/apartamento-2-quartos-vila-re-sao-paulo\n",
      "link at iteration 113 https://www.quintoandar.com.br/imovel/893014277/alugar/apartamento-3-quartos-vila-suzana-sao-paulo\n",
      "link at iteration 114 https://www.quintoandar.com.br/imovel/892776896/alugar/apartamento-3-quartos-vila-pompeia-sao-paulo\n",
      "link at iteration 115 https://www.quintoandar.com.br/imovel/893244131/alugar/casa-2-quartos-vila-guilhermina-sao-paulo\n",
      "link at iteration 116 https://www.quintoandar.com.br/imovel/893237614/alugar/apartamento-2-quartos-vila-bela-sao-paulo\n",
      "link at iteration 117 https://www.quintoandar.com.br/imovel/892878947/alugar/apartamento-3-quartos-campo-belo-sao-paulo\n",
      "link at iteration 118 https://www.quintoandar.com.br/imovel/893868693/alugar/apartamento-2-quartos-parque-mandaqui-sao-paulo\n"
     ]
    }
   ],
   "execution_count": 27
  }
 ],
 "metadata": {
  "kernelspec": {
   "display_name": "Python 3 (ipykernel)",
   "language": "python",
   "name": "python3"
  },
  "language_info": {
   "codemirror_mode": {
    "name": "ipython",
    "version": 3
   },
   "file_extension": ".py",
   "mimetype": "text/x-python",
   "name": "python",
   "nbconvert_exporter": "python",
   "pygments_lexer": "ipython3",
   "version": "3.9.13"
  }
 },
 "nbformat": 4,
 "nbformat_minor": 5
}
