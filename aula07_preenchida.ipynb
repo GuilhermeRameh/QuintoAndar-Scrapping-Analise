{
 "cells": [
  {
   "cell_type": "markdown",
   "id": "comprehensive-turkey",
   "metadata": {},
   "source": [
    "# Análise de texto de fontes desestruturadas e Web\n",
    "\n",
    "## Aula 07"
   ]
  },
  {
   "cell_type": "markdown",
   "id": "weird-patrol",
   "metadata": {},
   "source": [
    "## Importando as bibliotecas necessárias"
   ]
  },
  {
   "cell_type": "code",
   "execution_count": 1,
   "id": "unlike-france",
   "metadata": {},
   "outputs": [
    {
     "name": "stderr",
     "output_type": "stream",
     "text": [
      "c:\\Users\\GuilhermeRameh\\anaconda3\\lib\\site-packages\\scipy\\__init__.py:155: UserWarning: A NumPy version >=1.18.5 and <1.25.0 is required for this version of SciPy (detected version 1.26.4\n",
      "  warnings.warn(f\"A NumPy version >={np_minversion} and <{np_maxversion}\"\n"
     ]
    }
   ],
   "source": [
    "# para trabalhar com diretórios / sistema operacional\n",
    "import os\n",
    "\n",
    "# para nos comunicarmos com a Web\n",
    "import requests\n",
    "\n",
    "# para extrair informações de páginas HTML\n",
    "import bs4\n",
    "from bs4 import BeautifulSoup\n",
    "\n",
    "# utilizada para nos indicar o caminho do executável do Python\n",
    "import sys\n",
    "\n",
    "# Para criar um Data Frame\n",
    "import pandas as pd\n",
    "\n",
    "# Controlar espera entre requisições\n",
    "import time\n",
    "\n",
    "# Gerar valores aleatórios\n",
    "import random\n",
    "\n",
    "# Produto cartesiano\n",
    "from sklearn.utils.extmath import cartesian\n",
    "\n",
    "# Renderizar HTML\n",
    "import IPython\n",
    "\n",
    "# Paga digitar senha\n",
    "import getpass"
   ]
  },
  {
   "cell_type": "markdown",
   "id": "acquired-regard",
   "metadata": {},
   "source": [
    "Caso obtenha algum erro, utilize o **!pip install** para instalar a biblioteca ausente!\n",
    "\n",
    "Vamos conferir com qual versão da biblioteca **xxxx** estamos trabalhando?"
   ]
  },
  {
   "cell_type": "code",
   "execution_count": 2,
   "id": "removable-calvin",
   "metadata": {},
   "outputs": [
    {
     "name": "stdout",
     "output_type": "stream",
     "text": [
      "4.11.1\n"
     ]
    }
   ],
   "source": [
    "print(bs4.__version__)"
   ]
  },
  {
   "cell_type": "markdown",
   "id": "fewer-voluntary",
   "metadata": {},
   "source": [
    "Você também pode conferir de onde está executando o Python e qual a versão"
   ]
  },
  {
   "cell_type": "code",
   "execution_count": 3,
   "id": "aggregate-secondary",
   "metadata": {},
   "outputs": [
    {
     "name": "stdout",
     "output_type": "stream",
     "text": [
      "Executável:\n",
      "c:\\Users\\GuilhermeRameh\\anaconda3\\python.exe\n",
      "\n",
      "Versão do Python:\n",
      "3.9.13 (main, Aug 25 2022, 23:51:50) [MSC v.1916 64 bit (AMD64)]\n"
     ]
    }
   ],
   "source": [
    "print('Executável:')\n",
    "print(sys.executable)\n",
    "\n",
    "print('\\nVersão do Python:')\n",
    "print(sys.version)"
   ]
  },
  {
   "cell_type": "markdown",
   "id": "multiple-premium",
   "metadata": {},
   "source": [
    "Vamos conferir em qual diretório iremos trabalhar (é o diretório do notebook)"
   ]
  },
  {
   "cell_type": "code",
   "execution_count": 4,
   "id": "revolutionary-quantity",
   "metadata": {},
   "outputs": [
    {
     "name": "stdout",
     "output_type": "stream",
     "text": [
      "O seu notebook está na pasta:\n",
      "c:\\Users\\GuilhermeRameh\\OneDrive - Insper - Institudo de Ensino e Pesquisa\\Documents\\9sem\\AnaliseFontes\\A7\n"
     ]
    }
   ],
   "source": [
    "print('O seu notebook está na pasta:')\n",
    "print(os.getcwd())"
   ]
  },
  {
   "cell_type": "markdown",
   "id": "2ccf4005",
   "metadata": {},
   "source": [
    "## Relembrar\n",
    "\n",
    "Para relembrar a aula passada, vamos fazer o scraping do nome de uma pessoa da página https://atd-insper.s3.us-east-2.amazonaws.com/aula07/mensagem.html\n",
    "\n",
    "Clique no link para visualizar seu conteúdo.\n",
    "\n",
    "Vamos utilizar `requests` para fazer uma requisição `GET` na página e instanciar um objeto `BeautifulSoup` para extrair os dados!"
   ]
  },
  {
   "cell_type": "code",
   "execution_count": 5,
   "id": "0bca2bb2",
   "metadata": {},
   "outputs": [],
   "source": [
    "import requests\n",
    "url = 'https://atd-insper.s3.us-east-2.amazonaws.com/aula07/mensagem.html'\n",
    "\n",
    "pag_msg = requests.get(url)\n",
    "\n",
    "pag_msg.encoding = 'utf-8'\n",
    "\n",
    "soup = BeautifulSoup(pag_msg.text, 'html.parser')"
   ]
  },
  {
   "cell_type": "markdown",
   "id": "e0cdb7dd",
   "metadata": {},
   "source": [
    "Agora, utilize `soup` para buscar o nome!"
   ]
  },
  {
   "cell_type": "code",
   "execution_count": 8,
   "id": "04b69e3f",
   "metadata": {},
   "outputs": [
    {
     "data": {
      "text/plain": [
       "<span id=\"nome\"></span>"
      ]
     },
     "execution_count": 8,
     "metadata": {},
     "output_type": "execute_result"
    }
   ],
   "source": [
    "# Seu código AQUI!\n",
    "soup.find('span')"
   ]
  },
  {
   "cell_type": "markdown",
   "id": "4b1e78de",
   "metadata": {},
   "source": [
    "Parece que não funcionou! Vamos tentar encontrar todos os parágrafos?!"
   ]
  },
  {
   "cell_type": "code",
   "execution_count": 9,
   "id": "449cf57f",
   "metadata": {},
   "outputs": [
    {
     "data": {
      "text/plain": [
       "[<p>Faça a extração do nome!</p>,\n",
       " <p>Nome:\n",
       "     <span id=\"nome\"></span>\n",
       " </p>]"
      ]
     },
     "execution_count": 9,
     "metadata": {},
     "output_type": "execute_result"
    }
   ],
   "source": [
    "# Seu código AQUI!\n",
    "soup.find_all('p')"
   ]
  },
  {
   "cell_type": "markdown",
   "id": "5e3e9866",
   "metadata": {},
   "source": [
    "**Pergunta**: Você consegue explicar o que aconteceu?!"
   ]
  },
  {
   "cell_type": "markdown",
   "id": "c65b989a",
   "metadata": {},
   "source": [
    "<div class=\"alert alert-success\">\n",
    "\n",
    "Sua resposta AQUI! Dê dois cliques e edite.\n",
    "\n",
    "</div>"
   ]
  },
  {
   "cell_type": "markdown",
   "id": "f52a9a89",
   "metadata": {},
   "source": [
    "### HTML Retornado\n",
    "\n",
    "Vamos verificar o HTML retornado em nossa requisição"
   ]
  },
  {
   "cell_type": "code",
   "execution_count": 10,
   "id": "b16273d2",
   "metadata": {},
   "outputs": [
    {
     "name": "stdout",
     "output_type": "stream",
     "text": [
      "<!DOCTYPE html>\n",
      "<html>\n",
      "    <head>\n",
      "        <meta charset=\"UTF-8\">\n",
      "        <title>Exemplo Mensagem</title>\n",
      "    </head>\n",
      "<body>\n",
      "\n",
      "<h2>Olá!</h2>\n",
      "<p>Faça a extração do nome!</p>\n",
      "<p>Nome:\n",
      "    <span id=\"nome\"></span>\n",
      "</p>\n",
      "\n",
      "\n",
      "<script>\n",
      "// https://www.w3schools.com/html/tryit.asp?filename=tryhtml_script\n",
      "document.getElementById(\"nome\").innerHTML = \"Ana Maria\";\n",
      "</script> \n",
      "\n",
      "</body>\n",
      "</html>\n",
      "\n",
      "\n"
     ]
    }
   ],
   "source": [
    "print(pag_msg.text)"
   ]
  },
  {
   "cell_type": "markdown",
   "id": "1491eae3",
   "metadata": {},
   "source": [
    "Observe a tag\n",
    "```html\n",
    "<span id=\"nome\"></span>\n",
    "```\n",
    "Ela não contém o nome **Ana Maria**! Vá até o site e faça o **inspect** (com botão direito) e confira o HTML. Você verá que no navegador temos a informação do nome corretamente!"
   ]
  },
  {
   "cell_type": "markdown",
   "id": "7317c78f",
   "metadata": {},
   "source": [
    "### Tipos de páginas Web\n",
    "\n",
    "#### Páginas Estáticas\n",
    "\n",
    "Uma página da Web estática é uma página da Web que é entregue ao navegador da Web do usuário exatamente como é armazenada, sem nenhum elemento **dinâmico** ou **interativo**. O conteúdo de uma página da Web estática geralmente é definido em um arquivo HTML fixo que é armazenado no servidor da Web e enviado ao navegador do usuário quando ele solicita a página (`GET`).\n",
    "\n",
    "As páginas da Web estáticas geralmente têm uma estrutura simples e não requerem nenhum script do lado do servidor ou acesso ao banco de dados para gerar o conteúdo. Exemplos de páginas da Web estáticas incluem sites de folhetos que fornecem informações sobre uma empresa ou organização, portfólios, blogs pessoais e outros tipos de sites que não exigem atualizações frequentes ou funcionalidades complexas."
   ]
  },
  {
   "cell_type": "markdown",
   "id": "58684830",
   "metadata": {},
   "source": [
    "#### Páginas Dinâmicas\n",
    "\n",
    "Páginas dinâmicas são páginas da Web capazes de exibir conteúdos diferentes cada vez que são carregadas ou acessadas. O conteúdo exibido nessas páginas geralmente é gerado dinamicamente a partir de um banco de dados ou sistema de gerenciamento de conteúdo (CMS), em vez de ser pré-escrito e armazenado como arquivos HTML estáticos.\n",
    "\n",
    "As páginas dinâmicas podem ser criadas usando várias linguagens de programação, como PHP, Python, Ruby, JavaScript e outras. Eles também podem usar scripts do lado do servidor ou scripts do lado do cliente para manipular o conteúdo da página em resposta à interação do usuário ou outros eventos.\n",
    "\n",
    "- **Client-side Scripting**: a página da Web muda em resposta a uma ação dentro dela (evento do lado do cliente) utilizando scripts que geram “conteúdo do lado do cliente” e no computador do cliente. Aqui, o principal recurso será **Javascript**, que visualizaremos embutido no código HTML!\n",
    "\n",
    "\n",
    "\n",
    "- **Server-side Scripting**: uma página da Web que muda quando é carregada ou visitada, ou com base no que é enviado a ela, utilizando script do lado do servidor. Quando as páginas são carregadas, o conteúdo do lado do servidor é gerado. Exemplos incluem páginas de login, carrinhos de compras e formulários de envio."
   ]
  },
  {
   "cell_type": "markdown",
   "id": "959e5dd2",
   "metadata": {},
   "source": [
    "### Exemplos sintéticos\n",
    "\n",
    "Alguns outros exemplos de páginas que rodam Javascript:\n",
    "- https://atd-insper.s3.us-east-2.amazonaws.com/aula07/horas.html\n",
    "- https://atd-insper.s3.us-east-2.amazonaws.com/aula07/precos.html"
   ]
  },
  {
   "cell_type": "markdown",
   "id": "ba8b32ae",
   "metadata": {},
   "source": [
    "**Exercício 1)** Faça o scraping das páginas de **horas** e **precos** utilizando `requests` e `BeautifulSoup`.\n",
    "- Na página de horas, extraia a hora\n",
    "- Na página de precos, extraia as informações de pelo menos um produto (título, descrição, preço)\n",
    "\n",
    "Você conseguiu extrair as informações? Consegue explicar?!"
   ]
  },
  {
   "cell_type": "code",
   "execution_count": null,
   "id": "ddbbed1b",
   "metadata": {},
   "outputs": [],
   "source": [
    "# Seu código AQUI"
   ]
  },
  {
   "cell_type": "markdown",
   "id": "7e1eca34",
   "metadata": {},
   "source": [
    "<div class=\"alert alert-success\">\n",
    "\n",
    "Sua explicação AQUI! Dê dois cliques e edite.\n",
    "\n",
    "</div>"
   ]
  },
  {
   "cell_type": "markdown",
   "id": "27435f49",
   "metadata": {},
   "source": [
    "### Exemplos\n",
    "\n",
    "Diversas páginas utilizam de recursos que as tornam dinâmicas.\n",
    "\n",
    "Acesse o site https://imgur.com/ e role a página até a sua parte inferior. Perceba que novas imagens e vídeos serão carregados. Isto ocorreu porque um script faz uma requisição de conteúdo extra assim que a barra de rolagem aproxima-se da parte inferior. Este conteúdo extra é acrescido ao HTML da página.\n",
    "\n",
    "Quando utilizamos `requests` para requisitar conteúdos da Web, acessamos a versão inicial da página, antes que qualquer script seja executado, uma vez que a biblioteca `requests` não emula um navegador. Assim, precisamos de técnicas novas para trabalhar com páginas dinâmicas."
   ]
  },
  {
   "cell_type": "markdown",
   "id": "37dce2d2",
   "metadata": {},
   "source": [
    "### Como resolver?\n",
    "\n",
    "Páginas dinâmicas em muitos casos podem impedir o *scraping* com técnicas vistas até aqui na disciplina.\n",
    "\n",
    "Mas existem algumas situações que podem ser contornadas!\n",
    "\n",
    "- Procurar **API dos dados**: vimos a VIACep como exemplo de API para consulta de endereços. As páginas Web realizam diversas requisições por conteúdo (imagens, JS, HTML, JSON, etc.). Podemos inspecionar o site de nosso interesse e procurar pelas chamadas de API, verificando se alguma delas retorna o conteúdo de nosso interesse. Idealmente encontraremos uma que retorne os dados em formato bastante adequado (JSON), sonhar não custa nada!"
   ]
  },
  {
   "cell_type": "code",
   "execution_count": null,
   "id": "3ab6eb67",
   "metadata": {},
   "outputs": [],
   "source": [
    "url = # Seu código AQUI!\n",
    "\n",
    "pag_msg = requests.get(url)\n",
    "\n",
    "pag_msg.encoding = 'utf-8'\n",
    "\n",
    "soup = BeautifulSoup(pag_msg.text, 'html.parser')\n",
    "print(pag_msg.text)"
   ]
  },
  {
   "cell_type": "code",
   "execution_count": null,
   "id": "307db312",
   "metadata": {},
   "outputs": [],
   "source": [
    "soup.find_all('li')"
   ]
  },
  {
   "cell_type": "markdown",
   "id": "f664135d",
   "metadata": {},
   "source": [
    "- Procurar por **dados não renderizados**: em certas páginas, os dados estão disponíveis na resposta, mas não foram renderizados em suas devidas posições no HTML. Neste caso você pode encontrar os dados, mas não com o localizador identificado no navegador. "
   ]
  },
  {
   "cell_type": "markdown",
   "id": "6c4fc0af",
   "metadata": {},
   "source": [
    "## Selenium\n",
    "\n",
    "<img src=\"https://atd-insper.s3.us-east-2.amazonaws.com/aula07/img/selenium.png\">\n",
    "\n",
    "O Selenium (https://www.selenium.dev/) é um conjunto de tecnologias focadas em automatização de navegadores Web. Para nós, será uma biblioteca Python que utilizaremos para simular um usuário navegando pela Web.\n",
    "\n",
    "Vamos importar as bibliotecas, caso encontre problemas, descomente a linha e faça a instalação:"
   ]
  },
  {
   "cell_type": "code",
   "execution_count": 5,
   "id": "47bbeecb",
   "metadata": {},
   "outputs": [
    {
     "name": "stdout",
     "output_type": "stream",
     "text": [
      "Collecting selenium\n",
      "  Downloading selenium-4.20.0-py3-none-any.whl (9.5 MB)\n",
      "     ---------------------------------------- 9.5/9.5 MB 6.9 MB/s eta 0:00:00\n",
      "Requirement already satisfied: typing_extensions>=4.9.0 in c:\\users\\guilhermerameh\\anaconda3\\lib\\site-packages (from selenium) (4.11.0)\n",
      "Collecting trio-websocket~=0.9\n",
      "  Downloading trio_websocket-0.11.1-py3-none-any.whl (17 kB)\n",
      "Requirement already satisfied: certifi>=2021.10.8 in c:\\users\\guilhermerameh\\anaconda3\\lib\\site-packages (from selenium) (2022.9.14)\n",
      "Collecting trio~=0.17\n",
      "  Downloading trio-0.25.0-py3-none-any.whl (467 kB)\n",
      "     -------------------------------------- 467.2/467.2 kB 9.9 MB/s eta 0:00:00\n",
      "Requirement already satisfied: urllib3[socks]<3,>=1.26 in c:\\users\\guilhermerameh\\anaconda3\\lib\\site-packages (from selenium) (1.26.11)\n",
      "Requirement already satisfied: idna in c:\\users\\guilhermerameh\\anaconda3\\lib\\site-packages (from trio~=0.17->selenium) (3.3)\n",
      "Collecting sniffio>=1.3.0\n",
      "  Downloading sniffio-1.3.1-py3-none-any.whl (10 kB)\n",
      "Collecting attrs>=23.2.0\n",
      "  Downloading attrs-23.2.0-py3-none-any.whl (60 kB)\n",
      "     ---------------------------------------- 60.8/60.8 kB 3.2 MB/s eta 0:00:00\n",
      "Collecting exceptiongroup\n",
      "  Downloading exceptiongroup-1.2.1-py3-none-any.whl (16 kB)\n",
      "Collecting outcome\n",
      "  Downloading outcome-1.3.0.post0-py2.py3-none-any.whl (10 kB)\n",
      "Requirement already satisfied: cffi>=1.14 in c:\\users\\guilhermerameh\\anaconda3\\lib\\site-packages (from trio~=0.17->selenium) (1.15.1)\n",
      "Requirement already satisfied: sortedcontainers in c:\\users\\guilhermerameh\\anaconda3\\lib\\site-packages (from trio~=0.17->selenium) (2.4.0)\n",
      "Collecting wsproto>=0.14\n",
      "  Downloading wsproto-1.2.0-py3-none-any.whl (24 kB)\n",
      "Requirement already satisfied: PySocks!=1.5.7,<2.0,>=1.5.6 in c:\\users\\guilhermerameh\\anaconda3\\lib\\site-packages (from urllib3[socks]<3,>=1.26->selenium) (1.7.1)\n",
      "Requirement already satisfied: pycparser in c:\\users\\guilhermerameh\\anaconda3\\lib\\site-packages (from cffi>=1.14->trio~=0.17->selenium) (2.21)\n",
      "Collecting h11<1,>=0.9.0\n",
      "  Downloading h11-0.14.0-py3-none-any.whl (58 kB)\n",
      "     ---------------------------------------- 58.3/58.3 kB 3.0 MB/s eta 0:00:00\n",
      "Installing collected packages: sniffio, h11, exceptiongroup, attrs, wsproto, outcome, trio, trio-websocket, selenium\n",
      "  Attempting uninstall: sniffio\n",
      "    Found existing installation: sniffio 1.2.0\n",
      "    Uninstalling sniffio-1.2.0:\n",
      "      Successfully uninstalled sniffio-1.2.0\n",
      "  Attempting uninstall: attrs\n",
      "    Found existing installation: attrs 21.4.0\n",
      "    Uninstalling attrs-21.4.0:\n",
      "      Successfully uninstalled attrs-21.4.0\n",
      "Successfully installed attrs-23.2.0 exceptiongroup-1.2.1 h11-0.14.0 outcome-1.3.0.post0 selenium-4.20.0 sniffio-1.3.1 trio-0.25.0 trio-websocket-0.11.1 wsproto-1.2.0\n",
      "Collecting webdriver_manager\n",
      "  Downloading webdriver_manager-4.0.1-py2.py3-none-any.whl (27 kB)\n",
      "Requirement already satisfied: python-dotenv in c:\\users\\guilhermerameh\\anaconda3\\lib\\site-packages (from webdriver_manager) (1.0.1)\n",
      "Requirement already satisfied: requests in c:\\users\\guilhermerameh\\anaconda3\\lib\\site-packages (from webdriver_manager) (2.31.0)\n",
      "Requirement already satisfied: packaging in c:\\users\\guilhermerameh\\anaconda3\\lib\\site-packages (from webdriver_manager) (21.3)\n",
      "Requirement already satisfied: pyparsing!=3.0.5,>=2.0.2 in c:\\users\\guilhermerameh\\anaconda3\\lib\\site-packages (from packaging->webdriver_manager) (3.0.9)\n",
      "Requirement already satisfied: idna<4,>=2.5 in c:\\users\\guilhermerameh\\anaconda3\\lib\\site-packages (from requests->webdriver_manager) (3.3)\n",
      "Requirement already satisfied: certifi>=2017.4.17 in c:\\users\\guilhermerameh\\anaconda3\\lib\\site-packages (from requests->webdriver_manager) (2022.9.14)\n",
      "Requirement already satisfied: urllib3<3,>=1.21.1 in c:\\users\\guilhermerameh\\anaconda3\\lib\\site-packages (from requests->webdriver_manager) (1.26.11)\n",
      "Requirement already satisfied: charset-normalizer<4,>=2 in c:\\users\\guilhermerameh\\anaconda3\\lib\\site-packages (from requests->webdriver_manager) (2.0.4)\n",
      "Installing collected packages: webdriver_manager\n",
      "Successfully installed webdriver_manager-4.0.1\n"
     ]
    }
   ],
   "source": [
    "!pip install selenium\n",
    "!pip install webdriver_manager"
   ]
  },
  {
   "cell_type": "markdown",
   "id": "529c79ce",
   "metadata": {},
   "source": [
    "Se estiver no Google Colab, descomente e também rode:"
   ]
  },
  {
   "cell_type": "code",
   "execution_count": null,
   "id": "b5d95902",
   "metadata": {},
   "outputs": [],
   "source": [
    "# !sudo apt update\n",
    "# !wget https://dl.google.com/linux/direct/google-chrome-stable_current_amd64.deb\n",
    "# !dpkg -i google-chrome-stable_current_amd64.deb\n",
    "# !apt-get -f install\n",
    "# !google-chrome-stable --version"
   ]
  },
  {
   "cell_type": "markdown",
   "id": "903e7fd3",
   "metadata": {},
   "source": [
    "Vamos importar as bibliotecas:"
   ]
  },
  {
   "cell_type": "code",
   "execution_count": 29,
   "id": "45205180",
   "metadata": {},
   "outputs": [],
   "source": [
    "from selenium import webdriver\n",
    "from selenium.webdriver.chrome.options import Options\n",
    "from webdriver_manager.chrome import ChromeDriverManager\n",
    "from selenium.webdriver.chrome.service import Service\n",
    "from selenium.webdriver.common.by import By\n",
    "from selenium.webdriver.support.ui import WebDriverWait\n",
    "from selenium.webdriver.support import expected_conditions as EC"
   ]
  },
  {
   "cell_type": "code",
   "execution_count": 3,
   "id": "9dc7be25",
   "metadata": {},
   "outputs": [
    {
     "name": "stdout",
     "output_type": "stream",
     "text": [
      "Name: webdriver-manager\n",
      "Version: 4.0.1\n",
      "Summary: Library provides the way to automatically manage drivers for different browsers\n",
      "Home-page: https://github.com/SergeyPirogov/webdriver_manager\n",
      "Author: Sergey Pirogov\n",
      "Author-email: automationremarks@gmail.com\n",
      "License: \n",
      "Location: c:\\users\\guilhermerameh\\anaconda3\\lib\\site-packages\n",
      "Requires: packaging, python-dotenv, requests\n",
      "Required-by: \n"
     ]
    }
   ],
   "source": [
    "!pip show webdriver_manager"
   ]
  },
  {
   "cell_type": "markdown",
   "id": "9352fa13",
   "metadata": {},
   "source": [
    "### Criando um driver\n",
    "\n",
    "Execute a linha abaixo. Você irá perceber que será criada uma janela do navegador Chrome. Deixe esta janela aberta."
   ]
  },
  {
   "cell_type": "code",
   "execution_count": 2,
   "id": "570e2613",
   "metadata": {},
   "outputs": [],
   "source": [
    "# driver = webdriver.Chrome()\n",
    "# driver.set_page_load_timeout(60)\n",
    "\n",
    "# Se estiver no Colab, comente o código acima e utilize como alternativa\n",
    "chrome_options = webdriver.ChromeOptions()\n",
    "chrome_options.add_argument('--headless') # ensure GUI is off\n",
    "# chrome_options.add_argument('--no-sandbox')\n",
    "# chrome_options.add_argument('--disable-dev-shm-usage')\n",
    "driver = webdriver.Chrome(options=chrome_options)\n",
    "driver.set_page_load_timeout(60)"
   ]
  },
  {
   "cell_type": "markdown",
   "id": "e8be5e4a",
   "metadata": {},
   "source": [
    "### Navegação\n",
    "\n",
    "Vamos abrir o nosso exemplo das horas no navegador"
   ]
  },
  {
   "cell_type": "code",
   "execution_count": 3,
   "id": "d84c0fdd",
   "metadata": {},
   "outputs": [],
   "source": [
    "url = 'https://www.quintoandar.com.br/alugar/imovel/sao-paulo-sp-brasil'\n",
    "driver.get(url)\n",
    "driver.implicitly_wait(10)"
   ]
  },
  {
   "cell_type": "markdown",
   "id": "c9778dd2",
   "metadata": {},
   "source": [
    "Vamos recuperar a hora. Para encontrar o elemento, faremos uma busca pelo nome da tag (`div`)"
   ]
  },
  {
   "cell_type": "code",
   "execution_count": 16,
   "id": "400d52a9",
   "metadata": {},
   "outputs": [
    {
     "data": {
      "text/plain": [
       "'Ver mais'"
      ]
     },
     "execution_count": 16,
     "metadata": {},
     "output_type": "execute_result"
    }
   ],
   "source": [
    "horas = driver.find_elements(By.XPATH, '//main/section[2]/div/div')\n",
    "horas[-3].text"
   ]
  },
  {
   "cell_type": "markdown",
   "id": "2ddb1f5e",
   "metadata": {},
   "source": [
    "Ao acessar `horas.text`, podemos obter o conteúdo exibido em tempo real ao usuário do navegador!\n",
    "\n",
    "Execute a próxima célula múltiplas vezes!"
   ]
  },
  {
   "cell_type": "code",
   "execution_count": 38,
   "id": "d56c5876",
   "metadata": {},
   "outputs": [
    {
     "name": "stdout",
     "output_type": "stream",
     "text": [
      "0\n"
     ]
    },
    {
     "name": "stdout",
     "output_type": "stream",
     "text": [
      "1\n",
      "2\n",
      "3\n",
      "4\n",
      "5\n",
      "6\n",
      "7\n",
      "8\n",
      "9\n"
     ]
    },
    {
     "ename": "KeyboardInterrupt",
     "evalue": "",
     "output_type": "error",
     "traceback": [
      "\u001b[1;31m---------------------------------------------------------------------------\u001b[0m",
      "\u001b[1;31mKeyboardInterrupt\u001b[0m                         Traceback (most recent call last)",
      "\u001b[1;32m~\\AppData\\Local\\Temp\\ipykernel_43848\\1708861862.py\u001b[0m in \u001b[0;36m<module>\u001b[1;34m\u001b[0m\n\u001b[0;32m      7\u001b[0m         \u001b[0mwait\u001b[0m\u001b[1;33m.\u001b[0m\u001b[0muntil\u001b[0m\u001b[1;33m(\u001b[0m\u001b[0mEC\u001b[0m\u001b[1;33m.\u001b[0m\u001b[0melement_to_be_clickable\u001b[0m\u001b[1;33m(\u001b[0m\u001b[1;33m(\u001b[0m\u001b[0mBy\u001b[0m\u001b[1;33m.\u001b[0m\u001b[0mXPATH\u001b[0m\u001b[1;33m,\u001b[0m \u001b[1;34m'//main/section[2]/div/div[last()-2]/button'\u001b[0m\u001b[1;33m)\u001b[0m\u001b[1;33m)\u001b[0m\u001b[1;33m)\u001b[0m\u001b[1;33m\u001b[0m\u001b[1;33m\u001b[0m\u001b[0m\n\u001b[0;32m      8\u001b[0m         \u001b[0mhoras\u001b[0m\u001b[1;33m[\u001b[0m\u001b[1;33m-\u001b[0m\u001b[1;36m3\u001b[0m\u001b[1;33m]\u001b[0m\u001b[1;33m.\u001b[0m\u001b[0mclick\u001b[0m\u001b[1;33m(\u001b[0m\u001b[1;33m)\u001b[0m\u001b[1;33m\u001b[0m\u001b[1;33m\u001b[0m\u001b[0m\n\u001b[1;32m----> 9\u001b[1;33m         \u001b[0mhoras\u001b[0m \u001b[1;33m=\u001b[0m \u001b[0mdriver\u001b[0m\u001b[1;33m.\u001b[0m\u001b[0mfind_elements\u001b[0m\u001b[1;33m(\u001b[0m\u001b[0mBy\u001b[0m\u001b[1;33m.\u001b[0m\u001b[0mXPATH\u001b[0m\u001b[1;33m,\u001b[0m \u001b[1;34m'//main/section[2]/div/div'\u001b[0m\u001b[1;33m)\u001b[0m\u001b[1;33m\u001b[0m\u001b[1;33m\u001b[0m\u001b[0m\n\u001b[0m\u001b[0;32m     10\u001b[0m     \u001b[1;32mexcept\u001b[0m \u001b[0mException\u001b[0m \u001b[1;32mas\u001b[0m \u001b[0merr\u001b[0m\u001b[1;33m:\u001b[0m\u001b[1;33m\u001b[0m\u001b[1;33m\u001b[0m\u001b[0m\n\u001b[0;32m     11\u001b[0m         \u001b[0mprint\u001b[0m\u001b[1;33m(\u001b[0m\u001b[1;34mf'se fudeu em {i}\\n {err = }'\u001b[0m\u001b[1;33m)\u001b[0m\u001b[1;33m\u001b[0m\u001b[1;33m\u001b[0m\u001b[0m\n",
      "\u001b[1;32mc:\\Users\\GuilhermeRameh\\anaconda3\\lib\\site-packages\\selenium\\webdriver\\remote\\webdriver.py\u001b[0m in \u001b[0;36mfind_elements\u001b[1;34m(self, by, value)\u001b[0m\n\u001b[0;32m    769\u001b[0m         \u001b[1;31m# Return empty list if driver returns null\u001b[0m\u001b[1;33m\u001b[0m\u001b[1;33m\u001b[0m\u001b[0m\n\u001b[0;32m    770\u001b[0m         \u001b[1;31m# See https://github.com/SeleniumHQ/selenium/issues/4555\u001b[0m\u001b[1;33m\u001b[0m\u001b[1;33m\u001b[0m\u001b[0m\n\u001b[1;32m--> 771\u001b[1;33m         \u001b[1;32mreturn\u001b[0m \u001b[0mself\u001b[0m\u001b[1;33m.\u001b[0m\u001b[0mexecute\u001b[0m\u001b[1;33m(\u001b[0m\u001b[0mCommand\u001b[0m\u001b[1;33m.\u001b[0m\u001b[0mFIND_ELEMENTS\u001b[0m\u001b[1;33m,\u001b[0m \u001b[1;33m{\u001b[0m\u001b[1;34m\"using\"\u001b[0m\u001b[1;33m:\u001b[0m \u001b[0mby\u001b[0m\u001b[1;33m,\u001b[0m \u001b[1;34m\"value\"\u001b[0m\u001b[1;33m:\u001b[0m \u001b[0mvalue\u001b[0m\u001b[1;33m}\u001b[0m\u001b[1;33m)\u001b[0m\u001b[1;33m[\u001b[0m\u001b[1;34m\"value\"\u001b[0m\u001b[1;33m]\u001b[0m \u001b[1;32mor\u001b[0m \u001b[1;33m[\u001b[0m\u001b[1;33m]\u001b[0m\u001b[1;33m\u001b[0m\u001b[1;33m\u001b[0m\u001b[0m\n\u001b[0m\u001b[0;32m    772\u001b[0m \u001b[1;33m\u001b[0m\u001b[0m\n\u001b[0;32m    773\u001b[0m     \u001b[1;33m@\u001b[0m\u001b[0mproperty\u001b[0m\u001b[1;33m\u001b[0m\u001b[1;33m\u001b[0m\u001b[0m\n",
      "\u001b[1;32mc:\\Users\\GuilhermeRameh\\anaconda3\\lib\\site-packages\\selenium\\webdriver\\remote\\webdriver.py\u001b[0m in \u001b[0;36mexecute\u001b[1;34m(self, driver_command, params)\u001b[0m\n\u001b[0;32m    343\u001b[0m                 \u001b[0mparams\u001b[0m\u001b[1;33m[\u001b[0m\u001b[1;34m\"sessionId\"\u001b[0m\u001b[1;33m]\u001b[0m \u001b[1;33m=\u001b[0m \u001b[0mself\u001b[0m\u001b[1;33m.\u001b[0m\u001b[0msession_id\u001b[0m\u001b[1;33m\u001b[0m\u001b[1;33m\u001b[0m\u001b[0m\n\u001b[0;32m    344\u001b[0m \u001b[1;33m\u001b[0m\u001b[0m\n\u001b[1;32m--> 345\u001b[1;33m         \u001b[0mresponse\u001b[0m \u001b[1;33m=\u001b[0m \u001b[0mself\u001b[0m\u001b[1;33m.\u001b[0m\u001b[0mcommand_executor\u001b[0m\u001b[1;33m.\u001b[0m\u001b[0mexecute\u001b[0m\u001b[1;33m(\u001b[0m\u001b[0mdriver_command\u001b[0m\u001b[1;33m,\u001b[0m \u001b[0mparams\u001b[0m\u001b[1;33m)\u001b[0m\u001b[1;33m\u001b[0m\u001b[1;33m\u001b[0m\u001b[0m\n\u001b[0m\u001b[0;32m    346\u001b[0m         \u001b[1;32mif\u001b[0m \u001b[0mresponse\u001b[0m\u001b[1;33m:\u001b[0m\u001b[1;33m\u001b[0m\u001b[1;33m\u001b[0m\u001b[0m\n\u001b[0;32m    347\u001b[0m             \u001b[0mself\u001b[0m\u001b[1;33m.\u001b[0m\u001b[0merror_handler\u001b[0m\u001b[1;33m.\u001b[0m\u001b[0mcheck_response\u001b[0m\u001b[1;33m(\u001b[0m\u001b[0mresponse\u001b[0m\u001b[1;33m)\u001b[0m\u001b[1;33m\u001b[0m\u001b[1;33m\u001b[0m\u001b[0m\n",
      "\u001b[1;32mc:\\Users\\GuilhermeRameh\\anaconda3\\lib\\site-packages\\selenium\\webdriver\\remote\\remote_connection.py\u001b[0m in \u001b[0;36mexecute\u001b[1;34m(self, command, params)\u001b[0m\n\u001b[0;32m    300\u001b[0m         \u001b[0mtrimmed\u001b[0m \u001b[1;33m=\u001b[0m \u001b[0mself\u001b[0m\u001b[1;33m.\u001b[0m\u001b[0m_trim_large_entries\u001b[0m\u001b[1;33m(\u001b[0m\u001b[0mparams\u001b[0m\u001b[1;33m)\u001b[0m\u001b[1;33m\u001b[0m\u001b[1;33m\u001b[0m\u001b[0m\n\u001b[0;32m    301\u001b[0m         \u001b[0mLOGGER\u001b[0m\u001b[1;33m.\u001b[0m\u001b[0mdebug\u001b[0m\u001b[1;33m(\u001b[0m\u001b[1;34m\"%s %s %s\"\u001b[0m\u001b[1;33m,\u001b[0m \u001b[0mcommand_info\u001b[0m\u001b[1;33m[\u001b[0m\u001b[1;36m0\u001b[0m\u001b[1;33m]\u001b[0m\u001b[1;33m,\u001b[0m \u001b[0murl\u001b[0m\u001b[1;33m,\u001b[0m \u001b[0mstr\u001b[0m\u001b[1;33m(\u001b[0m\u001b[0mtrimmed\u001b[0m\u001b[1;33m)\u001b[0m\u001b[1;33m)\u001b[0m\u001b[1;33m\u001b[0m\u001b[1;33m\u001b[0m\u001b[0m\n\u001b[1;32m--> 302\u001b[1;33m         \u001b[1;32mreturn\u001b[0m \u001b[0mself\u001b[0m\u001b[1;33m.\u001b[0m\u001b[0m_request\u001b[0m\u001b[1;33m(\u001b[0m\u001b[0mcommand_info\u001b[0m\u001b[1;33m[\u001b[0m\u001b[1;36m0\u001b[0m\u001b[1;33m]\u001b[0m\u001b[1;33m,\u001b[0m \u001b[0murl\u001b[0m\u001b[1;33m,\u001b[0m \u001b[0mbody\u001b[0m\u001b[1;33m=\u001b[0m\u001b[0mdata\u001b[0m\u001b[1;33m)\u001b[0m\u001b[1;33m\u001b[0m\u001b[1;33m\u001b[0m\u001b[0m\n\u001b[0m\u001b[0;32m    303\u001b[0m \u001b[1;33m\u001b[0m\u001b[0m\n\u001b[0;32m    304\u001b[0m     \u001b[1;32mdef\u001b[0m \u001b[0m_request\u001b[0m\u001b[1;33m(\u001b[0m\u001b[0mself\u001b[0m\u001b[1;33m,\u001b[0m \u001b[0mmethod\u001b[0m\u001b[1;33m,\u001b[0m \u001b[0murl\u001b[0m\u001b[1;33m,\u001b[0m \u001b[0mbody\u001b[0m\u001b[1;33m=\u001b[0m\u001b[1;32mNone\u001b[0m\u001b[1;33m)\u001b[0m\u001b[1;33m:\u001b[0m\u001b[1;33m\u001b[0m\u001b[1;33m\u001b[0m\u001b[0m\n",
      "\u001b[1;32mc:\\Users\\GuilhermeRameh\\anaconda3\\lib\\site-packages\\selenium\\webdriver\\remote\\remote_connection.py\u001b[0m in \u001b[0;36m_request\u001b[1;34m(self, method, url, body)\u001b[0m\n\u001b[0;32m    320\u001b[0m \u001b[1;33m\u001b[0m\u001b[0m\n\u001b[0;32m    321\u001b[0m         \u001b[1;32mif\u001b[0m \u001b[0mself\u001b[0m\u001b[1;33m.\u001b[0m\u001b[0mkeep_alive\u001b[0m\u001b[1;33m:\u001b[0m\u001b[1;33m\u001b[0m\u001b[1;33m\u001b[0m\u001b[0m\n\u001b[1;32m--> 322\u001b[1;33m             \u001b[0mresponse\u001b[0m \u001b[1;33m=\u001b[0m \u001b[0mself\u001b[0m\u001b[1;33m.\u001b[0m\u001b[0m_conn\u001b[0m\u001b[1;33m.\u001b[0m\u001b[0mrequest\u001b[0m\u001b[1;33m(\u001b[0m\u001b[0mmethod\u001b[0m\u001b[1;33m,\u001b[0m \u001b[0murl\u001b[0m\u001b[1;33m,\u001b[0m \u001b[0mbody\u001b[0m\u001b[1;33m=\u001b[0m\u001b[0mbody\u001b[0m\u001b[1;33m,\u001b[0m \u001b[0mheaders\u001b[0m\u001b[1;33m=\u001b[0m\u001b[0mheaders\u001b[0m\u001b[1;33m)\u001b[0m\u001b[1;33m\u001b[0m\u001b[1;33m\u001b[0m\u001b[0m\n\u001b[0m\u001b[0;32m    323\u001b[0m             \u001b[0mstatuscode\u001b[0m \u001b[1;33m=\u001b[0m \u001b[0mresponse\u001b[0m\u001b[1;33m.\u001b[0m\u001b[0mstatus\u001b[0m\u001b[1;33m\u001b[0m\u001b[1;33m\u001b[0m\u001b[0m\n\u001b[0;32m    324\u001b[0m         \u001b[1;32melse\u001b[0m\u001b[1;33m:\u001b[0m\u001b[1;33m\u001b[0m\u001b[1;33m\u001b[0m\u001b[0m\n",
      "\u001b[1;32mc:\\Users\\GuilhermeRameh\\anaconda3\\lib\\site-packages\\urllib3\\request.py\u001b[0m in \u001b[0;36mrequest\u001b[1;34m(self, method, url, fields, headers, **urlopen_kw)\u001b[0m\n\u001b[0;32m     76\u001b[0m             )\n\u001b[0;32m     77\u001b[0m         \u001b[1;32melse\u001b[0m\u001b[1;33m:\u001b[0m\u001b[1;33m\u001b[0m\u001b[1;33m\u001b[0m\u001b[0m\n\u001b[1;32m---> 78\u001b[1;33m             return self.request_encode_body(\n\u001b[0m\u001b[0;32m     79\u001b[0m                 \u001b[0mmethod\u001b[0m\u001b[1;33m,\u001b[0m \u001b[0murl\u001b[0m\u001b[1;33m,\u001b[0m \u001b[0mfields\u001b[0m\u001b[1;33m=\u001b[0m\u001b[0mfields\u001b[0m\u001b[1;33m,\u001b[0m \u001b[0mheaders\u001b[0m\u001b[1;33m=\u001b[0m\u001b[0mheaders\u001b[0m\u001b[1;33m,\u001b[0m \u001b[1;33m**\u001b[0m\u001b[0murlopen_kw\u001b[0m\u001b[1;33m\u001b[0m\u001b[1;33m\u001b[0m\u001b[0m\n\u001b[0;32m     80\u001b[0m             )\n",
      "\u001b[1;32mc:\\Users\\GuilhermeRameh\\anaconda3\\lib\\site-packages\\urllib3\\request.py\u001b[0m in \u001b[0;36mrequest_encode_body\u001b[1;34m(self, method, url, fields, headers, encode_multipart, multipart_boundary, **urlopen_kw)\u001b[0m\n\u001b[0;32m    168\u001b[0m         \u001b[0mextra_kw\u001b[0m\u001b[1;33m.\u001b[0m\u001b[0mupdate\u001b[0m\u001b[1;33m(\u001b[0m\u001b[0murlopen_kw\u001b[0m\u001b[1;33m)\u001b[0m\u001b[1;33m\u001b[0m\u001b[1;33m\u001b[0m\u001b[0m\n\u001b[0;32m    169\u001b[0m \u001b[1;33m\u001b[0m\u001b[0m\n\u001b[1;32m--> 170\u001b[1;33m         \u001b[1;32mreturn\u001b[0m \u001b[0mself\u001b[0m\u001b[1;33m.\u001b[0m\u001b[0murlopen\u001b[0m\u001b[1;33m(\u001b[0m\u001b[0mmethod\u001b[0m\u001b[1;33m,\u001b[0m \u001b[0murl\u001b[0m\u001b[1;33m,\u001b[0m \u001b[1;33m**\u001b[0m\u001b[0mextra_kw\u001b[0m\u001b[1;33m)\u001b[0m\u001b[1;33m\u001b[0m\u001b[1;33m\u001b[0m\u001b[0m\n\u001b[0m",
      "\u001b[1;32mc:\\Users\\GuilhermeRameh\\anaconda3\\lib\\site-packages\\urllib3\\poolmanager.py\u001b[0m in \u001b[0;36murlopen\u001b[1;34m(self, method, url, redirect, **kw)\u001b[0m\n\u001b[0;32m    374\u001b[0m             \u001b[0mresponse\u001b[0m \u001b[1;33m=\u001b[0m \u001b[0mconn\u001b[0m\u001b[1;33m.\u001b[0m\u001b[0murlopen\u001b[0m\u001b[1;33m(\u001b[0m\u001b[0mmethod\u001b[0m\u001b[1;33m,\u001b[0m \u001b[0murl\u001b[0m\u001b[1;33m,\u001b[0m \u001b[1;33m**\u001b[0m\u001b[0mkw\u001b[0m\u001b[1;33m)\u001b[0m\u001b[1;33m\u001b[0m\u001b[1;33m\u001b[0m\u001b[0m\n\u001b[0;32m    375\u001b[0m         \u001b[1;32melse\u001b[0m\u001b[1;33m:\u001b[0m\u001b[1;33m\u001b[0m\u001b[1;33m\u001b[0m\u001b[0m\n\u001b[1;32m--> 376\u001b[1;33m             \u001b[0mresponse\u001b[0m \u001b[1;33m=\u001b[0m \u001b[0mconn\u001b[0m\u001b[1;33m.\u001b[0m\u001b[0murlopen\u001b[0m\u001b[1;33m(\u001b[0m\u001b[0mmethod\u001b[0m\u001b[1;33m,\u001b[0m \u001b[0mu\u001b[0m\u001b[1;33m.\u001b[0m\u001b[0mrequest_uri\u001b[0m\u001b[1;33m,\u001b[0m \u001b[1;33m**\u001b[0m\u001b[0mkw\u001b[0m\u001b[1;33m)\u001b[0m\u001b[1;33m\u001b[0m\u001b[1;33m\u001b[0m\u001b[0m\n\u001b[0m\u001b[0;32m    377\u001b[0m \u001b[1;33m\u001b[0m\u001b[0m\n\u001b[0;32m    378\u001b[0m         \u001b[0mredirect_location\u001b[0m \u001b[1;33m=\u001b[0m \u001b[0mredirect\u001b[0m \u001b[1;32mand\u001b[0m \u001b[0mresponse\u001b[0m\u001b[1;33m.\u001b[0m\u001b[0mget_redirect_location\u001b[0m\u001b[1;33m(\u001b[0m\u001b[1;33m)\u001b[0m\u001b[1;33m\u001b[0m\u001b[1;33m\u001b[0m\u001b[0m\n",
      "\u001b[1;32mc:\\Users\\GuilhermeRameh\\anaconda3\\lib\\site-packages\\urllib3\\connectionpool.py\u001b[0m in \u001b[0;36murlopen\u001b[1;34m(self, method, url, body, headers, retries, redirect, assert_same_host, timeout, pool_timeout, release_conn, chunked, body_pos, **response_kw)\u001b[0m\n\u001b[0;32m    701\u001b[0m \u001b[1;33m\u001b[0m\u001b[0m\n\u001b[0;32m    702\u001b[0m             \u001b[1;31m# Make the request on the httplib connection object.\u001b[0m\u001b[1;33m\u001b[0m\u001b[1;33m\u001b[0m\u001b[0m\n\u001b[1;32m--> 703\u001b[1;33m             httplib_response = self._make_request(\n\u001b[0m\u001b[0;32m    704\u001b[0m                 \u001b[0mconn\u001b[0m\u001b[1;33m,\u001b[0m\u001b[1;33m\u001b[0m\u001b[1;33m\u001b[0m\u001b[0m\n\u001b[0;32m    705\u001b[0m                 \u001b[0mmethod\u001b[0m\u001b[1;33m,\u001b[0m\u001b[1;33m\u001b[0m\u001b[1;33m\u001b[0m\u001b[0m\n",
      "\u001b[1;32mc:\\Users\\GuilhermeRameh\\anaconda3\\lib\\site-packages\\urllib3\\connectionpool.py\u001b[0m in \u001b[0;36m_make_request\u001b[1;34m(self, conn, method, url, timeout, chunked, **httplib_request_kw)\u001b[0m\n\u001b[0;32m    447\u001b[0m                     \u001b[1;31m# Python 3 (including for exceptions like SystemExit).\u001b[0m\u001b[1;33m\u001b[0m\u001b[1;33m\u001b[0m\u001b[0m\n\u001b[0;32m    448\u001b[0m                     \u001b[1;31m# Otherwise it looks like a bug in the code.\u001b[0m\u001b[1;33m\u001b[0m\u001b[1;33m\u001b[0m\u001b[0m\n\u001b[1;32m--> 449\u001b[1;33m                     \u001b[0msix\u001b[0m\u001b[1;33m.\u001b[0m\u001b[0mraise_from\u001b[0m\u001b[1;33m(\u001b[0m\u001b[0me\u001b[0m\u001b[1;33m,\u001b[0m \u001b[1;32mNone\u001b[0m\u001b[1;33m)\u001b[0m\u001b[1;33m\u001b[0m\u001b[1;33m\u001b[0m\u001b[0m\n\u001b[0m\u001b[0;32m    450\u001b[0m         \u001b[1;32mexcept\u001b[0m \u001b[1;33m(\u001b[0m\u001b[0mSocketTimeout\u001b[0m\u001b[1;33m,\u001b[0m \u001b[0mBaseSSLError\u001b[0m\u001b[1;33m,\u001b[0m \u001b[0mSocketError\u001b[0m\u001b[1;33m)\u001b[0m \u001b[1;32mas\u001b[0m \u001b[0me\u001b[0m\u001b[1;33m:\u001b[0m\u001b[1;33m\u001b[0m\u001b[1;33m\u001b[0m\u001b[0m\n\u001b[0;32m    451\u001b[0m             \u001b[0mself\u001b[0m\u001b[1;33m.\u001b[0m\u001b[0m_raise_timeout\u001b[0m\u001b[1;33m(\u001b[0m\u001b[0merr\u001b[0m\u001b[1;33m=\u001b[0m\u001b[0me\u001b[0m\u001b[1;33m,\u001b[0m \u001b[0murl\u001b[0m\u001b[1;33m=\u001b[0m\u001b[0murl\u001b[0m\u001b[1;33m,\u001b[0m \u001b[0mtimeout_value\u001b[0m\u001b[1;33m=\u001b[0m\u001b[0mread_timeout\u001b[0m\u001b[1;33m)\u001b[0m\u001b[1;33m\u001b[0m\u001b[1;33m\u001b[0m\u001b[0m\n",
      "\u001b[1;32mc:\\Users\\GuilhermeRameh\\anaconda3\\lib\\site-packages\\urllib3\\packages\\six.py\u001b[0m in \u001b[0;36mraise_from\u001b[1;34m(value, from_value)\u001b[0m\n",
      "\u001b[1;32mc:\\Users\\GuilhermeRameh\\anaconda3\\lib\\site-packages\\urllib3\\connectionpool.py\u001b[0m in \u001b[0;36m_make_request\u001b[1;34m(self, conn, method, url, timeout, chunked, **httplib_request_kw)\u001b[0m\n\u001b[0;32m    442\u001b[0m                 \u001b[1;31m# Python 3\u001b[0m\u001b[1;33m\u001b[0m\u001b[1;33m\u001b[0m\u001b[0m\n\u001b[0;32m    443\u001b[0m                 \u001b[1;32mtry\u001b[0m\u001b[1;33m:\u001b[0m\u001b[1;33m\u001b[0m\u001b[1;33m\u001b[0m\u001b[0m\n\u001b[1;32m--> 444\u001b[1;33m                     \u001b[0mhttplib_response\u001b[0m \u001b[1;33m=\u001b[0m \u001b[0mconn\u001b[0m\u001b[1;33m.\u001b[0m\u001b[0mgetresponse\u001b[0m\u001b[1;33m(\u001b[0m\u001b[1;33m)\u001b[0m\u001b[1;33m\u001b[0m\u001b[1;33m\u001b[0m\u001b[0m\n\u001b[0m\u001b[0;32m    445\u001b[0m                 \u001b[1;32mexcept\u001b[0m \u001b[0mBaseException\u001b[0m \u001b[1;32mas\u001b[0m \u001b[0me\u001b[0m\u001b[1;33m:\u001b[0m\u001b[1;33m\u001b[0m\u001b[1;33m\u001b[0m\u001b[0m\n\u001b[0;32m    446\u001b[0m                     \u001b[1;31m# Remove the TypeError from the exception chain in\u001b[0m\u001b[1;33m\u001b[0m\u001b[1;33m\u001b[0m\u001b[0m\n",
      "\u001b[1;32mc:\\Users\\GuilhermeRameh\\anaconda3\\lib\\http\\client.py\u001b[0m in \u001b[0;36mgetresponse\u001b[1;34m(self)\u001b[0m\n\u001b[0;32m   1375\u001b[0m         \u001b[1;32mtry\u001b[0m\u001b[1;33m:\u001b[0m\u001b[1;33m\u001b[0m\u001b[1;33m\u001b[0m\u001b[0m\n\u001b[0;32m   1376\u001b[0m             \u001b[1;32mtry\u001b[0m\u001b[1;33m:\u001b[0m\u001b[1;33m\u001b[0m\u001b[1;33m\u001b[0m\u001b[0m\n\u001b[1;32m-> 1377\u001b[1;33m                 \u001b[0mresponse\u001b[0m\u001b[1;33m.\u001b[0m\u001b[0mbegin\u001b[0m\u001b[1;33m(\u001b[0m\u001b[1;33m)\u001b[0m\u001b[1;33m\u001b[0m\u001b[1;33m\u001b[0m\u001b[0m\n\u001b[0m\u001b[0;32m   1378\u001b[0m             \u001b[1;32mexcept\u001b[0m \u001b[0mConnectionError\u001b[0m\u001b[1;33m:\u001b[0m\u001b[1;33m\u001b[0m\u001b[1;33m\u001b[0m\u001b[0m\n\u001b[0;32m   1379\u001b[0m                 \u001b[0mself\u001b[0m\u001b[1;33m.\u001b[0m\u001b[0mclose\u001b[0m\u001b[1;33m(\u001b[0m\u001b[1;33m)\u001b[0m\u001b[1;33m\u001b[0m\u001b[1;33m\u001b[0m\u001b[0m\n",
      "\u001b[1;32mc:\\Users\\GuilhermeRameh\\anaconda3\\lib\\http\\client.py\u001b[0m in \u001b[0;36mbegin\u001b[1;34m(self)\u001b[0m\n\u001b[0;32m    318\u001b[0m         \u001b[1;31m# read until we get a non-100 response\u001b[0m\u001b[1;33m\u001b[0m\u001b[1;33m\u001b[0m\u001b[0m\n\u001b[0;32m    319\u001b[0m         \u001b[1;32mwhile\u001b[0m \u001b[1;32mTrue\u001b[0m\u001b[1;33m:\u001b[0m\u001b[1;33m\u001b[0m\u001b[1;33m\u001b[0m\u001b[0m\n\u001b[1;32m--> 320\u001b[1;33m             \u001b[0mversion\u001b[0m\u001b[1;33m,\u001b[0m \u001b[0mstatus\u001b[0m\u001b[1;33m,\u001b[0m \u001b[0mreason\u001b[0m \u001b[1;33m=\u001b[0m \u001b[0mself\u001b[0m\u001b[1;33m.\u001b[0m\u001b[0m_read_status\u001b[0m\u001b[1;33m(\u001b[0m\u001b[1;33m)\u001b[0m\u001b[1;33m\u001b[0m\u001b[1;33m\u001b[0m\u001b[0m\n\u001b[0m\u001b[0;32m    321\u001b[0m             \u001b[1;32mif\u001b[0m \u001b[0mstatus\u001b[0m \u001b[1;33m!=\u001b[0m \u001b[0mCONTINUE\u001b[0m\u001b[1;33m:\u001b[0m\u001b[1;33m\u001b[0m\u001b[1;33m\u001b[0m\u001b[0m\n\u001b[0;32m    322\u001b[0m                 \u001b[1;32mbreak\u001b[0m\u001b[1;33m\u001b[0m\u001b[1;33m\u001b[0m\u001b[0m\n",
      "\u001b[1;32mc:\\Users\\GuilhermeRameh\\anaconda3\\lib\\http\\client.py\u001b[0m in \u001b[0;36m_read_status\u001b[1;34m(self)\u001b[0m\n\u001b[0;32m    279\u001b[0m \u001b[1;33m\u001b[0m\u001b[0m\n\u001b[0;32m    280\u001b[0m     \u001b[1;32mdef\u001b[0m \u001b[0m_read_status\u001b[0m\u001b[1;33m(\u001b[0m\u001b[0mself\u001b[0m\u001b[1;33m)\u001b[0m\u001b[1;33m:\u001b[0m\u001b[1;33m\u001b[0m\u001b[1;33m\u001b[0m\u001b[0m\n\u001b[1;32m--> 281\u001b[1;33m         \u001b[0mline\u001b[0m \u001b[1;33m=\u001b[0m \u001b[0mstr\u001b[0m\u001b[1;33m(\u001b[0m\u001b[0mself\u001b[0m\u001b[1;33m.\u001b[0m\u001b[0mfp\u001b[0m\u001b[1;33m.\u001b[0m\u001b[0mreadline\u001b[0m\u001b[1;33m(\u001b[0m\u001b[0m_MAXLINE\u001b[0m \u001b[1;33m+\u001b[0m \u001b[1;36m1\u001b[0m\u001b[1;33m)\u001b[0m\u001b[1;33m,\u001b[0m \u001b[1;34m\"iso-8859-1\"\u001b[0m\u001b[1;33m)\u001b[0m\u001b[1;33m\u001b[0m\u001b[1;33m\u001b[0m\u001b[0m\n\u001b[0m\u001b[0;32m    282\u001b[0m         \u001b[1;32mif\u001b[0m \u001b[0mlen\u001b[0m\u001b[1;33m(\u001b[0m\u001b[0mline\u001b[0m\u001b[1;33m)\u001b[0m \u001b[1;33m>\u001b[0m \u001b[0m_MAXLINE\u001b[0m\u001b[1;33m:\u001b[0m\u001b[1;33m\u001b[0m\u001b[1;33m\u001b[0m\u001b[0m\n\u001b[0;32m    283\u001b[0m             \u001b[1;32mraise\u001b[0m \u001b[0mLineTooLong\u001b[0m\u001b[1;33m(\u001b[0m\u001b[1;34m\"status line\"\u001b[0m\u001b[1;33m)\u001b[0m\u001b[1;33m\u001b[0m\u001b[1;33m\u001b[0m\u001b[0m\n",
      "\u001b[1;32mc:\\Users\\GuilhermeRameh\\anaconda3\\lib\\socket.py\u001b[0m in \u001b[0;36mreadinto\u001b[1;34m(self, b)\u001b[0m\n\u001b[0;32m    702\u001b[0m         \u001b[1;32mwhile\u001b[0m \u001b[1;32mTrue\u001b[0m\u001b[1;33m:\u001b[0m\u001b[1;33m\u001b[0m\u001b[1;33m\u001b[0m\u001b[0m\n\u001b[0;32m    703\u001b[0m             \u001b[1;32mtry\u001b[0m\u001b[1;33m:\u001b[0m\u001b[1;33m\u001b[0m\u001b[1;33m\u001b[0m\u001b[0m\n\u001b[1;32m--> 704\u001b[1;33m                 \u001b[1;32mreturn\u001b[0m \u001b[0mself\u001b[0m\u001b[1;33m.\u001b[0m\u001b[0m_sock\u001b[0m\u001b[1;33m.\u001b[0m\u001b[0mrecv_into\u001b[0m\u001b[1;33m(\u001b[0m\u001b[0mb\u001b[0m\u001b[1;33m)\u001b[0m\u001b[1;33m\u001b[0m\u001b[1;33m\u001b[0m\u001b[0m\n\u001b[0m\u001b[0;32m    705\u001b[0m             \u001b[1;32mexcept\u001b[0m \u001b[0mtimeout\u001b[0m\u001b[1;33m:\u001b[0m\u001b[1;33m\u001b[0m\u001b[1;33m\u001b[0m\u001b[0m\n\u001b[0;32m    706\u001b[0m                 \u001b[0mself\u001b[0m\u001b[1;33m.\u001b[0m\u001b[0m_timeout_occurred\u001b[0m \u001b[1;33m=\u001b[0m \u001b[1;32mTrue\u001b[0m\u001b[1;33m\u001b[0m\u001b[1;33m\u001b[0m\u001b[0m\n",
      "\u001b[1;31mKeyboardInterrupt\u001b[0m: "
     ]
    }
   ],
   "source": [
    "wait = WebDriverWait(driver, timeout=2)\n",
    "horas = driver.find_elements(By.XPATH, '//main/section[2]/div/div')\n",
    "\n",
    "for i in range(100):\n",
    "    print(i)\n",
    "    try:\n",
    "        wait.until(EC.element_to_be_clickable((By.XPATH, '//main/section[2]/div/div[last()-2]/button')))\n",
    "        horas[-3].click()\n",
    "        horas = driver.find_elements(By.XPATH, '//main/section[2]/div/div')\n",
    "    except Exception as err:\n",
    "        print(f'se fudeu em {i}\\n {err = }')\n",
    "        raise err"
   ]
  },
  {
   "cell_type": "code",
   "execution_count": 39,
   "id": "51fb28f3",
   "metadata": {},
   "outputs": [
    {
     "name": "stdout",
     "output_type": "stream",
     "text": [
      "400\n"
     ]
    }
   ],
   "source": [
    "print(len(horas))"
   ]
  },
  {
   "cell_type": "code",
   "execution_count": 17,
   "id": "1d9bf202",
   "metadata": {},
   "outputs": [],
   "source": [
    "horas[-3].click()\n",
    "driver.implicitly_wait(10000000)\n",
    "horas = driver.find_elements(By.XPATH, '//main/section[2]/div/div')"
   ]
  },
  {
   "cell_type": "markdown",
   "id": "8e55c981",
   "metadata": {},
   "source": [
    "Veja mais informações sobre a busca de elementos em https://www.selenium.dev/documentation/webdriver/elements/finders/ "
   ]
  },
  {
   "cell_type": "markdown",
   "id": "19421f22",
   "metadata": {},
   "source": [
    "### Localizadores\n",
    "\n",
    "Os localizadores/seletores do Selenium são ferramentas usadas para localizar elementos em uma página da Web para que possam interagir com eles usando a estrutura de automação do Selenium. Existem vários tipos de seletores que podem ser usados no Selenium, entre eles:\n",
    "\n",
    "- **Seletor CSS**: Um seletor CSS é um padrão usado para selecionar elementos com base em seus atributos CSS, como classe, id, nome, etc.\n",
    "\n",
    "- **Seletor XPath**: Os seletores XPath são usados para localizar elementos com base em sua posição no documento HTML, bem como em seus atributos.\n",
    "\n",
    "- **Seletor de ID**: O seletor de ID é usado para localizar um elemento com base em seu identificador exclusivo.\n",
    "\n",
    "- **Seletor de classe**: O seletor de classe é usado para localizar elementos com base em seu nome de classe.\n",
    "\n",
    "- **Seletor de nome**: O seletor de nome é usado para localizar elementos com base em seu atributo de nome.\n",
    "\n",
    "- **Seletor de tags**: O seletor de tags é usado para localizar elementos com base em seu nome de tag HTML.\n",
    "\n",
    "Esses seletores podem ser usados em combinação com vários métodos fornecidos pela estrutura do Selenium para interagir com os elementos em uma página da Web, como clicar em botões, preencher formulários ou extrair informações da página. É importante escolher o seletor apropriado para cada elemento para garantir uma automação confiável e eficiente.\n",
    "\n",
    "Veja mais em:\n",
    "- Pergunte ao ChatGPT\n",
    "- https://www.tutorialspoint.com/selenium/selenium_locators.htm\n",
    "- https://www.browserstack.com/guide/locators-in-selenium"
   ]
  },
  {
   "cell_type": "markdown",
   "id": "0bfacdc8",
   "metadata": {},
   "source": [
    "### Selenium + BeautifulSoup\n",
    "\n",
    "Uma outra opção é utilizar o Selenium apenas como emulador de navegador, fazendo o scraping com `BeautifulSoup`.\n",
    "\n",
    "Com `driver.page_source` podemos recuperar o HTML atual da página:"
   ]
  },
  {
   "cell_type": "code",
   "execution_count": 35,
   "id": "cf380d88",
   "metadata": {},
   "outputs": [
    {
     "data": {
      "text/plain": [
       "'18:33:51 PM'"
      ]
     },
     "execution_count": 35,
     "metadata": {},
     "output_type": "execute_result"
    }
   ],
   "source": [
    "soup = BeautifulSoup(driver.page_source, 'html.parser')\n",
    "\n",
    "soup.find('div').text"
   ]
  },
  {
   "cell_type": "markdown",
   "id": "b29aed25",
   "metadata": {},
   "source": [
    "### Exemplo: Login no Blackboard com Selenium\n",
    "\n",
    "Vamos utilizar Selenium para acessar e fazer login no Blackboard.\n",
    "\n",
    "Acesso à URL:"
   ]
  },
  {
   "cell_type": "code",
   "execution_count": 36,
   "id": "568253d9",
   "metadata": {},
   "outputs": [],
   "source": [
    "url = 'https://insper.blackboard.com/'\n",
    "driver.get(url)"
   ]
  },
  {
   "cell_type": "markdown",
   "id": "c32a671a",
   "metadata": {},
   "source": [
    "Precisamos encontrar o campo de **Nome**"
   ]
  },
  {
   "cell_type": "code",
   "execution_count": 39,
   "id": "fa4ab717",
   "metadata": {},
   "outputs": [
    {
     "data": {
      "text/plain": [
       "<selenium.webdriver.remote.webelement.WebElement (session=\"f853f2846918857b22badac4333862d7\", element=\"f.1BEBFD4B67BD03253BD090154C0D7216.d.483E03492DCC9747671AEADD4597206C.e.17\")>"
      ]
     },
     "execution_count": 39,
     "metadata": {},
     "output_type": "execute_result"
    }
   ],
   "source": [
    "nome = driver.find_element(By.XPATH, '//*[@id=\"user_id\"]')\n",
    "nome"
   ]
  },
  {
   "cell_type": "markdown",
   "id": "55a254bd",
   "metadata": {},
   "source": [
    "E preencher com nossas informações de login"
   ]
  },
  {
   "cell_type": "code",
   "execution_count": 40,
   "id": "6c65464d",
   "metadata": {},
   "outputs": [],
   "source": [
    "nome.send_keys('macielcv')# Seu usuário insper AQUI!"
   ]
  },
  {
   "cell_type": "markdown",
   "id": "bfafce17",
   "metadata": {},
   "source": [
    "Vamos informar nossa senha aqui no notebook"
   ]
  },
  {
   "cell_type": "code",
   "execution_count": 41,
   "id": "e4f9209b",
   "metadata": {},
   "outputs": [],
   "source": [
    "# Digite sua senha, se não funcionar, comentee e use algo no estilo:\n",
    "# senha_blackboard = '123x1456'\n",
    "senha_blackboard = getpass.getpass()"
   ]
  },
  {
   "cell_type": "markdown",
   "id": "296ac239",
   "metadata": {},
   "source": [
    "E então preencher na página!"
   ]
  },
  {
   "cell_type": "code",
   "execution_count": 42,
   "id": "02cd4f2a",
   "metadata": {},
   "outputs": [],
   "source": [
    "senha = driver.find_element(By.XPATH, '//*[@id=\"password\"]')\n",
    "senha.send_keys(senha_blackboard)"
   ]
  },
  {
   "cell_type": "markdown",
   "id": "66ab8e8f",
   "metadata": {},
   "source": [
    "Em seguida encontraremos o botão de login"
   ]
  },
  {
   "cell_type": "code",
   "execution_count": 43,
   "id": "027a047e",
   "metadata": {},
   "outputs": [
    {
     "data": {
      "text/plain": [
       "<selenium.webdriver.remote.webelement.WebElement (session=\"f853f2846918857b22badac4333862d7\", element=\"f.1BEBFD4B67BD03253BD090154C0D7216.d.483E03492DCC9747671AEADD4597206C.e.9\")>"
      ]
     },
     "execution_count": 43,
     "metadata": {},
     "output_type": "execute_result"
    }
   ],
   "source": [
    "botao = driver.find_element(By.ID, 'entry-login') # CAMPO AQUI!\n",
    "botao"
   ]
  },
  {
   "cell_type": "markdown",
   "id": "1068452d",
   "metadata": {},
   "source": [
    "E enviar um click!"
   ]
  },
  {
   "cell_type": "code",
   "execution_count": 44,
   "id": "63e906b0",
   "metadata": {},
   "outputs": [],
   "source": [
    "botao.click()"
   ]
  },
  {
   "cell_type": "markdown",
   "id": "45fdcd71",
   "metadata": {},
   "source": [
    "Vamos remover o aviso de privacidade"
   ]
  },
  {
   "cell_type": "code",
   "execution_count": 45,
   "id": "3bbdf72e",
   "metadata": {},
   "outputs": [],
   "source": [
    "driver.find_element(By.CLASS_NAME, 'button-1').click()"
   ]
  },
  {
   "cell_type": "markdown",
   "id": "e1f854fe",
   "metadata": {},
   "source": [
    "Simular um scroll até uma posição fixa"
   ]
  },
  {
   "cell_type": "code",
   "execution_count": 46,
   "id": "14c3a8dc",
   "metadata": {},
   "outputs": [],
   "source": [
    "driver.execute_script('window.scrollTo(0,250)')"
   ]
  },
  {
   "cell_type": "markdown",
   "id": "6e9f18c2",
   "metadata": {},
   "source": [
    "Fazer scrolls sequenciais"
   ]
  },
  {
   "cell_type": "code",
   "execution_count": 47,
   "id": "be5e7a3c",
   "metadata": {},
   "outputs": [],
   "source": [
    "for i in range(200, 1000, 100):\n",
    "    driver.execute_script(f'window.scrollTo(0,{i})')\n",
    "    time.sleep(abs(random.gauss(1.0, 0.2)))"
   ]
  },
  {
   "cell_type": "markdown",
   "id": "e48692dd",
   "metadata": {},
   "source": [
    "Scroll até o final da página"
   ]
  },
  {
   "cell_type": "code",
   "execution_count": 48,
   "id": "7191720a",
   "metadata": {},
   "outputs": [],
   "source": [
    "driver.execute_script(\"window.scrollTo(0,document.body.scrollHeight)\")"
   ]
  },
  {
   "cell_type": "markdown",
   "id": "66df77da",
   "metadata": {},
   "source": [
    "E scroll para tornar algum elemento visível"
   ]
  },
  {
   "cell_type": "code",
   "execution_count": 49,
   "id": "ebf0392a",
   "metadata": {},
   "outputs": [],
   "source": [
    "plataforma = driver.find_element(By.XPATH, '/html/body/div[5]/div/div/div/div/div[1]/div/div/div[3]/div[4]/div[2]/div/p/a/img')\n",
    "driver.execute_script(\"arguments[0].scrollIntoView();\", plataforma)"
   ]
  },
  {
   "cell_type": "markdown",
   "id": "8c5260fc",
   "metadata": {},
   "source": [
    "# Exercícios\n",
    "\n",
    "**Exercício 2)** Consider a página de notícias https://www.moneytimes.com.br/ultimas-noticias/: \n",
    "\n",
    "Implemente uma solução de recuperação de notícias utilizando a API de paginação. Retorne notícias das primeiras 10 páginas pelo menos."
   ]
  },
  {
   "cell_type": "code",
   "execution_count": null,
   "id": "a12d2dbe",
   "metadata": {},
   "outputs": [],
   "source": [
    "# Seu código AQUI!"
   ]
  },
  {
   "cell_type": "markdown",
   "id": "416b5157",
   "metadata": {},
   "source": [
    "**Exercício 3)** Escolha um site de seu interesse. Construa um script Python que faça coisas como:\n",
    "- Login no site\n",
    "- Click em botões\n",
    "- Acesso a links\n",
    "- Etc."
   ]
  },
  {
   "cell_type": "code",
   "execution_count": null,
   "id": "9f5e93d6",
   "metadata": {},
   "outputs": [],
   "source": [
    "# Seu código AQUI!"
   ]
  },
  {
   "cell_type": "markdown",
   "id": "eec1f70a",
   "metadata": {},
   "source": [
    "**Exercício 4)** Na aula anterior fizemos a busca no site da Magalu. Agora, tente fazer o scraping de busca por produtos no site www.casasbahia.com.br\n",
    "\n",
    "O preço do site é retornado de forma dinâmica ou estática?\n",
    "\n",
    "Retorne um DataFrame com pelo menos:\n",
    "- Termo de busca\n",
    "- Descrição do produto\n",
    "- Preço\n",
    "- Link para o produto"
   ]
  },
  {
   "cell_type": "code",
   "execution_count": null,
   "id": "94f6a728",
   "metadata": {},
   "outputs": [],
   "source": [
    "# Seu código AQUI!"
   ]
  },
  {
   "cell_type": "markdown",
   "id": "ccf88aaa",
   "metadata": {},
   "source": [
    "## Referências\n",
    "\n",
    "- https://www.packetlabs.net/posts/dynamic-pages/\n",
    "- ChatGPT\n"
   ]
  }
 ],
 "metadata": {
  "kernelspec": {
   "display_name": "Python 3 (ipykernel)",
   "language": "python",
   "name": "python3"
  },
  "language_info": {
   "codemirror_mode": {
    "name": "ipython",
    "version": 3
   },
   "file_extension": ".py",
   "mimetype": "text/x-python",
   "name": "python",
   "nbconvert_exporter": "python",
   "pygments_lexer": "ipython3",
   "version": "3.9.13"
  }
 },
 "nbformat": 4,
 "nbformat_minor": 5
}
